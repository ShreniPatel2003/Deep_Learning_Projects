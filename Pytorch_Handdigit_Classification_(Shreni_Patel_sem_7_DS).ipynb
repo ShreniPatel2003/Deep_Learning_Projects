{
  "cells": [
    {
      "cell_type": "markdown",
      "metadata": {
        "id": "view-in-github",
        "colab_type": "text"
      },
      "source": [
        "<a href=\"https://colab.research.google.com/github/ShreniPatel2003/Deep_Learning_Projects/blob/main/Pytorch_Handdigit_Classification_(Shreni_Patel_sem_7_DS).ipynb\" target=\"_parent\"><img src=\"https://colab.research.google.com/assets/colab-badge.svg\" alt=\"Open In Colab\"/></a>"
      ]
    },
    {
      "cell_type": "code",
      "execution_count": 8,
      "metadata": {
        "id": "YspgOqmB1UnK"
      },
      "outputs": [],
      "source": [
        "import torch\n",
        "import torch.nn as nn\n",
        "import torch.optim as optim\n",
        "import torchvision\n",
        "import torchvision.transforms as transforms\n",
        "import numpy as np\n",
        "import matplotlib.pyplot as plt\n",
        "import seaborn as sns\n",
        "from sklearn.metrics import confusion_matrix"
      ]
    },
    {
      "cell_type": "code",
      "execution_count": null,
      "metadata": {
        "id": "0GEtQOAT1gZN"
      },
      "outputs": [],
      "source": [
        "# Define a simple neural network architecture\n",
        "class Net(nn.Module):\n",
        "    def __init__(self):\n",
        "        super(Net, self).__init__()\n",
        "        self.fc1 = nn.Linear(784, 20)\n",
        "        self.fc2 = nn.Linear(20, 15)\n",
        "        self.fc3 = nn.Linear(15, 10)\n",
        "\n",
        "    def forward(self, x):\n",
        "        x = torch.relu(self.fc1(x))\n",
        "        x = torch.relu(self.fc2(x))\n",
        "        x = self.fc3(x)\n",
        "        return x"
      ]
    },
    {
      "cell_type": "code",
      "execution_count": null,
      "metadata": {
        "colab": {
          "base_uri": "https://localhost:8080/"
        },
        "id": "5FAJ-PFR1ipN",
        "outputId": "2a950e6a-db95-4cff-f410-9c8ba91f9fb3"
      },
      "outputs": [
        {
          "output_type": "stream",
          "name": "stdout",
          "text": [
            "Downloading http://yann.lecun.com/exdb/mnist/train-images-idx3-ubyte.gz\n",
            "Downloading http://yann.lecun.com/exdb/mnist/train-images-idx3-ubyte.gz to ./data/MNIST/raw/train-images-idx3-ubyte.gz\n"
          ]
        },
        {
          "output_type": "stream",
          "name": "stderr",
          "text": [
            "100%|██████████| 9912422/9912422 [00:00<00:00, 77528295.24it/s]\n"
          ]
        },
        {
          "output_type": "stream",
          "name": "stdout",
          "text": [
            "Extracting ./data/MNIST/raw/train-images-idx3-ubyte.gz to ./data/MNIST/raw\n",
            "\n",
            "Downloading http://yann.lecun.com/exdb/mnist/train-labels-idx1-ubyte.gz\n",
            "Downloading http://yann.lecun.com/exdb/mnist/train-labels-idx1-ubyte.gz to ./data/MNIST/raw/train-labels-idx1-ubyte.gz\n"
          ]
        },
        {
          "output_type": "stream",
          "name": "stderr",
          "text": [
            "100%|██████████| 28881/28881 [00:00<00:00, 72018842.94it/s]\n"
          ]
        },
        {
          "output_type": "stream",
          "name": "stdout",
          "text": [
            "Extracting ./data/MNIST/raw/train-labels-idx1-ubyte.gz to ./data/MNIST/raw\n",
            "\n",
            "Downloading http://yann.lecun.com/exdb/mnist/t10k-images-idx3-ubyte.gz\n",
            "Downloading http://yann.lecun.com/exdb/mnist/t10k-images-idx3-ubyte.gz to ./data/MNIST/raw/t10k-images-idx3-ubyte.gz\n"
          ]
        },
        {
          "output_type": "stream",
          "name": "stderr",
          "text": [
            "100%|██████████| 1648877/1648877 [00:00<00:00, 27751927.72it/s]\n"
          ]
        },
        {
          "output_type": "stream",
          "name": "stdout",
          "text": [
            "Extracting ./data/MNIST/raw/t10k-images-idx3-ubyte.gz to ./data/MNIST/raw\n",
            "\n",
            "Downloading http://yann.lecun.com/exdb/mnist/t10k-labels-idx1-ubyte.gz\n",
            "Downloading http://yann.lecun.com/exdb/mnist/t10k-labels-idx1-ubyte.gz to ./data/MNIST/raw/t10k-labels-idx1-ubyte.gz\n"
          ]
        },
        {
          "output_type": "stream",
          "name": "stderr",
          "text": [
            "100%|██████████| 4542/4542 [00:00<00:00, 14111502.79it/s]"
          ]
        },
        {
          "output_type": "stream",
          "name": "stdout",
          "text": [
            "Extracting ./data/MNIST/raw/t10k-labels-idx1-ubyte.gz to ./data/MNIST/raw\n",
            "\n"
          ]
        },
        {
          "output_type": "stream",
          "name": "stderr",
          "text": [
            "\n"
          ]
        }
      ],
      "source": [
        "# Load the MNIST dataset and apply transformations\n",
        "transform = transforms.Compose([transforms.ToTensor(), transforms.Normalize((0.5,), (0.5,))])\n",
        "trainset = torchvision.datasets.MNIST(root='./data', train=True, download=True, transform=transform)\n",
        "trainloader = torch.utils.data.DataLoader(trainset, batch_size=32, shuffle=True)\n",
        "\n",
        "testset = torchvision.datasets.MNIST(root='./data', train=False, download=True, transform=transform)\n",
        "testloader = torch.utils.data.DataLoader(testset, batch_size=32, shuffle=False)\n"
      ]
    },
    {
      "cell_type": "code",
      "execution_count": null,
      "metadata": {
        "id": "V_O15x5p1isv"
      },
      "outputs": [],
      "source": [
        "# Initialize the network, loss function, and optimizer\n",
        "net = Net()\n",
        "criterion = nn.CrossEntropyLoss()\n",
        "optimizer = optim.Adam(net.parameters(), lr=0.001)\n"
      ]
    },
    {
      "cell_type": "code",
      "execution_count": null,
      "metadata": {
        "colab": {
          "base_uri": "https://localhost:8080/"
        },
        "id": "ULNJQCD21zt5",
        "outputId": "dda251f7-9ab6-4fde-a547-492c6ae61533"
      },
      "outputs": [
        {
          "output_type": "stream",
          "name": "stdout",
          "text": [
            "Epoch 1, Loss: 0.5840722267826398\n",
            "Epoch 2, Loss: 0.33049386310776074\n",
            "Epoch 3, Loss: 0.2907535817121466\n",
            "Epoch 4, Loss: 0.2716595986545086\n",
            "Epoch 5, Loss: 0.2559870046099027\n",
            "Epoch 6, Loss: 0.2455584034581979\n",
            "Epoch 7, Loss: 0.23771281133194763\n",
            "Epoch 8, Loss: 0.23010915602644286\n",
            "Epoch 9, Loss: 0.22637265260219575\n",
            "Epoch 10, Loss: 0.21997289480169613\n",
            "Epoch 11, Loss: 0.21691893679201604\n",
            "Epoch 12, Loss: 0.21170227830807367\n",
            "Epoch 13, Loss: 0.2100878950054447\n",
            "Epoch 14, Loss: 0.2061930285339554\n",
            "Epoch 15, Loss: 0.20478603695482014\n",
            "Epoch 16, Loss: 0.20242491519749164\n",
            "Epoch 17, Loss: 0.19999212657262883\n",
            "Epoch 18, Loss: 0.20038672930772106\n",
            "Epoch 19, Loss: 0.19572919191320737\n",
            "Epoch 20, Loss: 0.19517680765340725\n",
            "Epoch 21, Loss: 0.19241810242384672\n",
            "Epoch 22, Loss: 0.19179204222510257\n",
            "Epoch 23, Loss: 0.18983297753433387\n",
            "Epoch 24, Loss: 0.1901184204051892\n",
            "Epoch 25, Loss: 0.18803455502217015\n",
            "Epoch 26, Loss: 0.18433633538434901\n",
            "Epoch 27, Loss: 0.183884705606848\n",
            "Epoch 28, Loss: 0.18279726697355508\n",
            "Epoch 29, Loss: 0.18143204442908367\n",
            "Epoch 30, Loss: 0.18072374826620022\n",
            "Epoch 31, Loss: 0.1794463805961112\n",
            "Epoch 32, Loss: 0.17867297961637377\n",
            "Epoch 33, Loss: 0.17612588539967935\n",
            "Epoch 34, Loss: 0.17470870913068454\n",
            "Epoch 35, Loss: 0.17518801087290048\n",
            "Epoch 36, Loss: 0.17258106738602122\n",
            "Epoch 37, Loss: 0.17359270272503297\n",
            "Epoch 38, Loss: 0.16985207256774107\n",
            "Epoch 39, Loss: 0.17099079223126173\n",
            "Epoch 40, Loss: 0.16952144885882736\n",
            "Epoch 41, Loss: 0.1679175295541684\n",
            "Epoch 42, Loss: 0.1684152638097604\n",
            "Epoch 43, Loss: 0.1666902075653275\n",
            "Epoch 44, Loss: 0.16451014843732117\n",
            "Epoch 45, Loss: 0.165081452374657\n",
            "Epoch 46, Loss: 0.16469107115119697\n",
            "Epoch 47, Loss: 0.16363409608229995\n",
            "Epoch 48, Loss: 0.16364599231928587\n",
            "Epoch 49, Loss: 0.16286530197610458\n",
            "Epoch 50, Loss: 0.16286538360342384\n",
            "Epoch 51, Loss: 0.1611366163775325\n",
            "Epoch 52, Loss: 0.16074083818023405\n",
            "Epoch 53, Loss: 0.16072465089211863\n",
            "Epoch 54, Loss: 0.15865273153980572\n",
            "Epoch 55, Loss: 0.16018162026554347\n",
            "Epoch 56, Loss: 0.158313539275527\n",
            "Epoch 57, Loss: 0.15880624117975434\n",
            "Epoch 58, Loss: 0.15793522741484145\n",
            "Epoch 59, Loss: 0.1579962132625282\n",
            "Epoch 60, Loss: 0.1565495762117207\n",
            "Epoch 61, Loss: 0.15642698117842277\n",
            "Epoch 62, Loss: 0.15512437464743853\n",
            "Epoch 63, Loss: 0.155015875973925\n",
            "Epoch 64, Loss: 0.1544924211192876\n",
            "Epoch 65, Loss: 0.15489025766650835\n",
            "Epoch 66, Loss: 0.15501454686572155\n",
            "Epoch 67, Loss: 0.1539580653314789\n",
            "Epoch 68, Loss: 0.1527938412003219\n",
            "Epoch 69, Loss: 0.1523798810698092\n",
            "Epoch 70, Loss: 0.15307024978138506\n",
            "Epoch 71, Loss: 0.15282142801396548\n",
            "Epoch 72, Loss: 0.15252352794532975\n",
            "Epoch 73, Loss: 0.15295178446645538\n",
            "Epoch 74, Loss: 0.15082053854043284\n",
            "Epoch 75, Loss: 0.15163890181183814\n",
            "Epoch 76, Loss: 0.15080887850373983\n",
            "Epoch 77, Loss: 0.15051867765411733\n",
            "Epoch 78, Loss: 0.1505512756591042\n",
            "Epoch 79, Loss: 0.14991291257863243\n",
            "Epoch 80, Loss: 0.1496311351262033\n",
            "Finished Training\n"
          ]
        }
      ],
      "source": [
        "# Training the network\n",
        "for epoch in range(80):\n",
        "    running_loss = 0.0\n",
        "    for i, data in enumerate(trainloader, 0):\n",
        "        inputs, labels = data\n",
        "        inputs = inputs.view(-1, 28*28)\n",
        "\n",
        "        optimizer.zero_grad()\n",
        "        outputs = net(inputs)\n",
        "        loss = criterion(outputs, labels)\n",
        "        loss.backward()\n",
        "        optimizer.step()\n",
        "\n",
        "        running_loss += loss.item()\n",
        "\n",
        "    print(f'Epoch {epoch + 1}, Loss: {running_loss / len(trainloader)}')\n",
        "\n",
        "print('Finished Training')"
      ]
    },
    {
      "cell_type": "code",
      "execution_count": 16,
      "metadata": {
        "id": "1aGhm0k710BB",
        "colab": {
          "base_uri": "https://localhost:8080/"
        },
        "outputId": "4b4ee3d9-32cf-4234-a1f4-0c005f888319"
      },
      "outputs": [
        {
          "output_type": "stream",
          "name": "stdout",
          "text": [
            "Accuracy of the network on the test images: 94.59%\n"
          ]
        }
      ],
      "source": [
        "#Evaluation on the test set\n",
        "correct = 0\n",
        "total = 0\n",
        "y_pred = []\n",
        "\n",
        "with torch.no_grad():\n",
        "    for data in testloader:\n",
        "        images, labels = data\n",
        "        images = images.view(-1, 28*28)\n",
        "        outputs = net(images)\n",
        "        predicted = torch.max(outputs.data, 1)[1]  # Extract the tensor indices\n",
        "        y_pred.extend(predicted)\n",
        "        total += labels.size(0)\n",
        "        correct += (predicted == labels).sum().item()\n",
        "\n",
        "print(f'Accuracy of the network on the test images: {100 * correct / total:.2f}%')"
      ]
    },
    {
      "cell_type": "code",
      "execution_count": 17,
      "metadata": {
        "id": "HFSt4uGq1-cc",
        "colab": {
          "base_uri": "https://localhost:8080/",
          "height": 718
        },
        "outputId": "3f224450-c041-4bcb-a46d-225b57c35884"
      },
      "outputs": [
        {
          "output_type": "display_data",
          "data": {
            "text/plain": [
              "<Figure size 1000x800 with 2 Axes>"
            ],
            "image/png": "[encoded data removed]"
          },
          "metadata": {}
        }
      ],
      "source": [
        "# Creating and plotting the confusion matrix\n",
        "conf_matrix = confusion_matrix(testset.targets, y_pred)\n",
        "plt.figure(figsize=(10, 8))\n",
        "sns.heatmap(conf_matrix, annot=True, fmt=\"d\", cmap=\"Blues\")\n",
        "plt.xlabel('Predicted labels')\n",
        "plt.ylabel('True labels')\n",
        "plt.title('Confusion Matrix')\n",
        "plt.show()"
      ]
    },
    {
      "cell_type": "code",
      "source": [],
      "metadata": {
        "id": "qFJ-ak-mrcXo"
      },
      "execution_count": null,
      "outputs": []
    }
  ],
  "metadata": {
    "colab": {
      "provenance": [],
      "toc_visible": true,
      "include_colab_link": true
    },
    "kernelspec": {
      "display_name": "Python 3",
      "name": "python3"
    },
    "language_info": {
      "name": "python"
    }
  },
  "nbformat": 4,
  "nbformat_minor": 0
}