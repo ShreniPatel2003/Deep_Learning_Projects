{
 "cells": [
  {
   "cell_type": "markdown",
   "id": "87b141c7",
   "metadata": {},
   "source": [
    "# Name: Patel Shreni Pranav\n",
    "\n",
    "# Data Science (Sem - 7)"
   ]
  },
  {
   "cell_type": "code",
   "execution_count": 1,
   "id": "06631146",
   "metadata": {},
   "outputs": [
    {
     "name": "stderr",
     "output_type": "stream",
     "text": [
      "C:\\Users\\Jatin\\anaconda3\\lib\\site-packages\\scipy\\__init__.py:146: UserWarning: A NumPy version >=1.16.5 and <1.23.0 is required for this version of SciPy (detected version 1.24.3\n",
      "  warnings.warn(f\"A NumPy version >={np_minversion} and <{np_maxversion}\"\n"
     ]
    }
   ],
   "source": [
    "# Importing libraries\n",
    "import tensorflow as tf\n",
    "from tensorflow.keras.models import Sequential\n",
    "from tensorflow.keras.layers import Dense\n",
    "from tensorflow.keras.callbacks import EarlyStopping\n",
    "from sklearn.preprocessing import StandardScaler\n",
    "from sklearn.metrics import confusion_matrix\n",
    "import numpy as np\n",
    "import pandas as pd\n",
    "import seaborn as sns\n",
    "import matplotlib.pyplot as plt"
   ]
  },
  {
   "cell_type": "code",
   "execution_count": 2,
   "id": "1e31ba1a",
   "metadata": {},
   "outputs": [],
   "source": [
    "#Loading data\n",
    "data = pd.read_csv(\"car-data.csv\")"
   ]
  },
  {
   "cell_type": "code",
   "execution_count": 3,
   "id": "62fd4eb8",
   "metadata": {},
   "outputs": [
    {
     "data": {
      "text/html": [
       "<div>\n",
       "<style scoped>\n",
       "    .dataframe tbody tr th:only-of-type {\n",
       "        vertical-align: middle;\n",
       "    }\n",
       "\n",
       "    .dataframe tbody tr th {\n",
       "        vertical-align: top;\n",
       "    }\n",
       "\n",
       "    .dataframe thead th {\n",
       "        text-align: right;\n",
       "    }\n",
       "</style>\n",
       "<table border=\"1\" class=\"dataframe\">\n",
       "  <thead>\n",
       "    <tr style=\"text-align: right;\">\n",
       "      <th></th>\n",
       "      <th>Unnamed: 0</th>\n",
       "      <th>Name</th>\n",
       "      <th>Location</th>\n",
       "      <th>Year</th>\n",
       "      <th>Kilometers_Driven</th>\n",
       "      <th>Fuel_Type</th>\n",
       "      <th>Transmission</th>\n",
       "      <th>Owner_Type</th>\n",
       "      <th>Mileage</th>\n",
       "      <th>Engine</th>\n",
       "      <th>Power</th>\n",
       "      <th>Seats</th>\n",
       "      <th>New_Price</th>\n",
       "      <th>Price</th>\n",
       "    </tr>\n",
       "  </thead>\n",
       "  <tbody>\n",
       "    <tr>\n",
       "      <th>0</th>\n",
       "      <td>0</td>\n",
       "      <td>Maruti Wagon R LXI CNG</td>\n",
       "      <td>Mumbai</td>\n",
       "      <td>2010</td>\n",
       "      <td>72000</td>\n",
       "      <td>CNG</td>\n",
       "      <td>Manual</td>\n",
       "      <td>First</td>\n",
       "      <td>26.6 km/kg</td>\n",
       "      <td>998 CC</td>\n",
       "      <td>58.16 bhp</td>\n",
       "      <td>5.0</td>\n",
       "      <td>NaN</td>\n",
       "      <td>1.75</td>\n",
       "    </tr>\n",
       "    <tr>\n",
       "      <th>1</th>\n",
       "      <td>1</td>\n",
       "      <td>Hyundai Creta 1.6 CRDi SX Option</td>\n",
       "      <td>Pune</td>\n",
       "      <td>2015</td>\n",
       "      <td>41000</td>\n",
       "      <td>Diesel</td>\n",
       "      <td>Manual</td>\n",
       "      <td>First</td>\n",
       "      <td>19.67 kmpl</td>\n",
       "      <td>1582 CC</td>\n",
       "      <td>126.2 bhp</td>\n",
       "      <td>5.0</td>\n",
       "      <td>NaN</td>\n",
       "      <td>12.50</td>\n",
       "    </tr>\n",
       "    <tr>\n",
       "      <th>2</th>\n",
       "      <td>2</td>\n",
       "      <td>Honda Jazz V</td>\n",
       "      <td>Chennai</td>\n",
       "      <td>2011</td>\n",
       "      <td>46000</td>\n",
       "      <td>Petrol</td>\n",
       "      <td>Manual</td>\n",
       "      <td>First</td>\n",
       "      <td>18.2 kmpl</td>\n",
       "      <td>1199 CC</td>\n",
       "      <td>88.7 bhp</td>\n",
       "      <td>5.0</td>\n",
       "      <td>8.61 Lakh</td>\n",
       "      <td>4.50</td>\n",
       "    </tr>\n",
       "    <tr>\n",
       "      <th>3</th>\n",
       "      <td>3</td>\n",
       "      <td>Maruti Ertiga VDI</td>\n",
       "      <td>Chennai</td>\n",
       "      <td>2012</td>\n",
       "      <td>87000</td>\n",
       "      <td>Diesel</td>\n",
       "      <td>Manual</td>\n",
       "      <td>First</td>\n",
       "      <td>20.77 kmpl</td>\n",
       "      <td>1248 CC</td>\n",
       "      <td>88.76 bhp</td>\n",
       "      <td>7.0</td>\n",
       "      <td>NaN</td>\n",
       "      <td>6.00</td>\n",
       "    </tr>\n",
       "    <tr>\n",
       "      <th>4</th>\n",
       "      <td>4</td>\n",
       "      <td>Audi A4 New 2.0 TDI Multitronic</td>\n",
       "      <td>Coimbatore</td>\n",
       "      <td>2013</td>\n",
       "      <td>40670</td>\n",
       "      <td>Diesel</td>\n",
       "      <td>Automatic</td>\n",
       "      <td>Second</td>\n",
       "      <td>15.2 kmpl</td>\n",
       "      <td>1968 CC</td>\n",
       "      <td>140.8 bhp</td>\n",
       "      <td>5.0</td>\n",
       "      <td>NaN</td>\n",
       "      <td>17.74</td>\n",
       "    </tr>\n",
       "  </tbody>\n",
       "</table>\n",
       "</div>"
      ],
      "text/plain": [
       "   Unnamed: 0                              Name    Location  Year  \\\n",
       "0           0            Maruti Wagon R LXI CNG      Mumbai  2010   \n",
       "1           1  Hyundai Creta 1.6 CRDi SX Option        Pune  2015   \n",
       "2           2                      Honda Jazz V     Chennai  2011   \n",
       "3           3                 Maruti Ertiga VDI     Chennai  2012   \n",
       "4           4   Audi A4 New 2.0 TDI Multitronic  Coimbatore  2013   \n",
       "\n",
       "   Kilometers_Driven Fuel_Type Transmission Owner_Type     Mileage   Engine  \\\n",
       "0              72000       CNG       Manual      First  26.6 km/kg   998 CC   \n",
       "1              41000    Diesel       Manual      First  19.67 kmpl  1582 CC   \n",
       "2              46000    Petrol       Manual      First   18.2 kmpl  1199 CC   \n",
       "3              87000    Diesel       Manual      First  20.77 kmpl  1248 CC   \n",
       "4              40670    Diesel    Automatic     Second   15.2 kmpl  1968 CC   \n",
       "\n",
       "       Power  Seats  New_Price  Price  \n",
       "0  58.16 bhp    5.0        NaN   1.75  \n",
       "1  126.2 bhp    5.0        NaN  12.50  \n",
       "2   88.7 bhp    5.0  8.61 Lakh   4.50  \n",
       "3  88.76 bhp    7.0        NaN   6.00  \n",
       "4  140.8 bhp    5.0        NaN  17.74  "
      ]
     },
     "execution_count": 3,
     "metadata": {},
     "output_type": "execute_result"
    }
   ],
   "source": [
    "data.head()"
   ]
  },
  {
   "cell_type": "code",
   "execution_count": 4,
   "id": "20da8ece",
   "metadata": {},
   "outputs": [
    {
     "data": {
      "text/plain": [
       "(6019, 14)"
      ]
     },
     "execution_count": 4,
     "metadata": {},
     "output_type": "execute_result"
    }
   ],
   "source": [
    "data.shape"
   ]
  },
  {
   "cell_type": "code",
   "execution_count": 5,
   "id": "346131c0",
   "metadata": {},
   "outputs": [
    {
     "name": "stdout",
     "output_type": "stream",
     "text": [
      "<class 'pandas.core.frame.DataFrame'>\n",
      "RangeIndex: 6019 entries, 0 to 6018\n",
      "Data columns (total 14 columns):\n",
      " #   Column             Non-Null Count  Dtype  \n",
      "---  ------             --------------  -----  \n",
      " 0   Unnamed: 0         6019 non-null   int64  \n",
      " 1   Name               6019 non-null   object \n",
      " 2   Location           6019 non-null   object \n",
      " 3   Year               6019 non-null   int64  \n",
      " 4   Kilometers_Driven  6019 non-null   int64  \n",
      " 5   Fuel_Type          6019 non-null   object \n",
      " 6   Transmission       6019 non-null   object \n",
      " 7   Owner_Type         6019 non-null   object \n",
      " 8   Mileage            6017 non-null   object \n",
      " 9   Engine             5983 non-null   object \n",
      " 10  Power              5983 non-null   object \n",
      " 11  Seats              5977 non-null   float64\n",
      " 12  New_Price          824 non-null    object \n",
      " 13  Price              6019 non-null   float64\n",
      "dtypes: float64(2), int64(3), object(9)\n",
      "memory usage: 658.5+ KB\n"
     ]
    }
   ],
   "source": [
    "data.info()"
   ]
  },
  {
   "cell_type": "code",
   "execution_count": 6,
   "id": "d52271e3",
   "metadata": {},
   "outputs": [
    {
     "data": {
      "text/html": [
       "<div>\n",
       "<style scoped>\n",
       "    .dataframe tbody tr th:only-of-type {\n",
       "        vertical-align: middle;\n",
       "    }\n",
       "\n",
       "    .dataframe tbody tr th {\n",
       "        vertical-align: top;\n",
       "    }\n",
       "\n",
       "    .dataframe thead th {\n",
       "        text-align: right;\n",
       "    }\n",
       "</style>\n",
       "<table border=\"1\" class=\"dataframe\">\n",
       "  <thead>\n",
       "    <tr style=\"text-align: right;\">\n",
       "      <th></th>\n",
       "      <th>Unnamed: 0</th>\n",
       "      <th>Year</th>\n",
       "      <th>Kilometers_Driven</th>\n",
       "      <th>Seats</th>\n",
       "      <th>Price</th>\n",
       "    </tr>\n",
       "  </thead>\n",
       "  <tbody>\n",
       "    <tr>\n",
       "      <th>count</th>\n",
       "      <td>6019.000000</td>\n",
       "      <td>6019.000000</td>\n",
       "      <td>6.019000e+03</td>\n",
       "      <td>5977.000000</td>\n",
       "      <td>6019.000000</td>\n",
       "    </tr>\n",
       "    <tr>\n",
       "      <th>mean</th>\n",
       "      <td>3009.000000</td>\n",
       "      <td>2013.358199</td>\n",
       "      <td>5.873838e+04</td>\n",
       "      <td>5.278735</td>\n",
       "      <td>9.479468</td>\n",
       "    </tr>\n",
       "    <tr>\n",
       "      <th>std</th>\n",
       "      <td>1737.679967</td>\n",
       "      <td>3.269742</td>\n",
       "      <td>9.126884e+04</td>\n",
       "      <td>0.808840</td>\n",
       "      <td>11.187917</td>\n",
       "    </tr>\n",
       "    <tr>\n",
       "      <th>min</th>\n",
       "      <td>0.000000</td>\n",
       "      <td>1998.000000</td>\n",
       "      <td>1.710000e+02</td>\n",
       "      <td>0.000000</td>\n",
       "      <td>0.440000</td>\n",
       "    </tr>\n",
       "    <tr>\n",
       "      <th>25%</th>\n",
       "      <td>1504.500000</td>\n",
       "      <td>2011.000000</td>\n",
       "      <td>3.400000e+04</td>\n",
       "      <td>5.000000</td>\n",
       "      <td>3.500000</td>\n",
       "    </tr>\n",
       "    <tr>\n",
       "      <th>50%</th>\n",
       "      <td>3009.000000</td>\n",
       "      <td>2014.000000</td>\n",
       "      <td>5.300000e+04</td>\n",
       "      <td>5.000000</td>\n",
       "      <td>5.640000</td>\n",
       "    </tr>\n",
       "    <tr>\n",
       "      <th>75%</th>\n",
       "      <td>4513.500000</td>\n",
       "      <td>2016.000000</td>\n",
       "      <td>7.300000e+04</td>\n",
       "      <td>5.000000</td>\n",
       "      <td>9.950000</td>\n",
       "    </tr>\n",
       "    <tr>\n",
       "      <th>max</th>\n",
       "      <td>6018.000000</td>\n",
       "      <td>2019.000000</td>\n",
       "      <td>6.500000e+06</td>\n",
       "      <td>10.000000</td>\n",
       "      <td>160.000000</td>\n",
       "    </tr>\n",
       "  </tbody>\n",
       "</table>\n",
       "</div>"
      ],
      "text/plain": [
       "        Unnamed: 0         Year  Kilometers_Driven        Seats        Price\n",
       "count  6019.000000  6019.000000       6.019000e+03  5977.000000  6019.000000\n",
       "mean   3009.000000  2013.358199       5.873838e+04     5.278735     9.479468\n",
       "std    1737.679967     3.269742       9.126884e+04     0.808840    11.187917\n",
       "min       0.000000  1998.000000       1.710000e+02     0.000000     0.440000\n",
       "25%    1504.500000  2011.000000       3.400000e+04     5.000000     3.500000\n",
       "50%    3009.000000  2014.000000       5.300000e+04     5.000000     5.640000\n",
       "75%    4513.500000  2016.000000       7.300000e+04     5.000000     9.950000\n",
       "max    6018.000000  2019.000000       6.500000e+06    10.000000   160.000000"
      ]
     },
     "execution_count": 6,
     "metadata": {},
     "output_type": "execute_result"
    }
   ],
   "source": [
    "data.describe()"
   ]
  },
  {
   "cell_type": "code",
   "execution_count": 7,
   "id": "45179d5d",
   "metadata": {},
   "outputs": [
    {
     "data": {
      "text/plain": [
       "False"
      ]
     },
     "execution_count": 7,
     "metadata": {},
     "output_type": "execute_result"
    }
   ],
   "source": [
    "data.duplicated().any()"
   ]
  },
  {
   "cell_type": "code",
   "execution_count": 8,
   "id": "3358d252",
   "metadata": {},
   "outputs": [],
   "source": [
    "# Handling NaN values with mean imputation for numerical data\n",
    "data_numeric = data.select_dtypes(include=[np.number])\n",
    "data_numeric = data_numeric.fillna(data_numeric.mean())\n",
    "\n",
    "# Handling NaN values with mode imputation for categorical data\n",
    "data_categorical = data.select_dtypes(include=[np.object_])\n",
    "data_categorical = data_categorical.fillna(data_categorical.mode().iloc[0])\n",
    "\n",
    "# Combining the numerical and categorical data\n",
    "data = pd.concat([data_numeric, data_categorical], axis=1)"
   ]
  },
  {
   "cell_type": "code",
   "execution_count": 9,
   "id": "f8fd6d6f",
   "metadata": {},
   "outputs": [],
   "source": [
    "from sklearn import preprocessing\n",
    "label_encoder = preprocessing.LabelEncoder()\n",
    "data['Name']= label_encoder.fit_transform(data['Name'])\n",
    "data['Location']= label_encoder.fit_transform(data['Location'])\n",
    "data['Fuel_Type']= label_encoder.fit_transform(data['Fuel_Type'])\n",
    "data['Transmission']= label_encoder.fit_transform(data['Transmission'])\n",
    "data['Owner_Type']= label_encoder.fit_transform(data['Owner_Type'])\n",
    "data['Power']= label_encoder.fit_transform(data['Power'])\n",
    "data['Engine']= label_encoder.fit_transform(data['Engine'])\n",
    "data['Mileage']= label_encoder.fit_transform(data['Mileage'])\n",
    "data['New_Price']= label_encoder.fit_transform(data['New_Price'])"
   ]
  },
  {
   "cell_type": "code",
   "execution_count": 10,
   "id": "0a3cbd7f",
   "metadata": {},
   "outputs": [],
   "source": [
    "x = data.drop(columns = ['Unnamed: 0', 'Price'], axis = 1)"
   ]
  },
  {
   "cell_type": "code",
   "execution_count": 11,
   "id": "09924787",
   "metadata": {},
   "outputs": [],
   "source": [
    "y=data['Price']"
   ]
  },
  {
   "cell_type": "code",
   "execution_count": 12,
   "id": "8a85285a",
   "metadata": {},
   "outputs": [],
   "source": [
    "from sklearn.model_selection import train_test_split\n",
    "\n",
    "x_train, x_test, y_train, y_test = train_test_split(x, y, test_size = 0.2)"
   ]
  },
  {
   "cell_type": "code",
   "execution_count": 13,
   "id": "330a5511",
   "metadata": {},
   "outputs": [
    {
     "data": {
      "text/plain": [
       "(4815, 12)"
      ]
     },
     "execution_count": 13,
     "metadata": {},
     "output_type": "execute_result"
    }
   ],
   "source": [
    "x_train.shape"
   ]
  },
  {
   "cell_type": "code",
   "execution_count": 14,
   "id": "aa60f4bc",
   "metadata": {},
   "outputs": [
    {
     "data": {
      "text/plain": [
       "(1204, 12)"
      ]
     },
     "execution_count": 14,
     "metadata": {},
     "output_type": "execute_result"
    }
   ],
   "source": [
    "x_test.shape"
   ]
  },
  {
   "cell_type": "code",
   "execution_count": 15,
   "id": "fcdbe628",
   "metadata": {},
   "outputs": [],
   "source": [
    "scaler = StandardScaler()\n",
    "x_train = scaler.fit_transform(x_train)\n",
    "x_test = scaler.transform(x_test)"
   ]
  },
  {
   "cell_type": "code",
   "execution_count": 16,
   "id": "ed453748",
   "metadata": {},
   "outputs": [],
   "source": [
    "model = Sequential()\n",
    "model.add(Dense(20, activation='relu', input_shape=(12,)))\n",
    "model.add(Dense(14, activation='relu'))\n",
    "model.add(Dense(1, activation='relu'))"
   ]
  },
  {
   "cell_type": "code",
   "execution_count": 17,
   "id": "9f8f7f0c",
   "metadata": {},
   "outputs": [],
   "source": [
    "model.compile(optimizer='adam',loss = 'mean_absolute_error',metrics = ['MAE'])"
   ]
  },
  {
   "cell_type": "code",
   "execution_count": 18,
   "id": "fb0e3111",
   "metadata": {},
   "outputs": [],
   "source": [
    "early_stopping = EarlyStopping(monitor='MAE', patience=3)"
   ]
  },
  {
   "cell_type": "code",
   "execution_count": 19,
   "id": "30d70335",
   "metadata": {},
   "outputs": [
    {
     "name": "stdout",
     "output_type": "stream",
     "text": [
      "Epoch 1/80\n",
      "121/121 [==============================] - 1s 3ms/step - loss: 7.0066 - MAE: 7.0066 - val_loss: 4.5613 - val_MAE: 4.5613\n",
      "Epoch 2/80\n",
      "121/121 [==============================] - 0s 2ms/step - loss: 4.0961 - MAE: 4.0961 - val_loss: 3.4349 - val_MAE: 3.4349\n",
      "Epoch 3/80\n",
      "121/121 [==============================] - 0s 2ms/step - loss: 3.5295 - MAE: 3.5295 - val_loss: 3.2284 - val_MAE: 3.2284\n",
      "Epoch 4/80\n",
      "121/121 [==============================] - 0s 2ms/step - loss: 3.3476 - MAE: 3.3476 - val_loss: 3.0967 - val_MAE: 3.0967\n",
      "Epoch 5/80\n",
      "121/121 [==============================] - 0s 3ms/step - loss: 3.2340 - MAE: 3.2340 - val_loss: 2.9980 - val_MAE: 2.9980\n",
      "Epoch 6/80\n",
      "121/121 [==============================] - 0s 3ms/step - loss: 3.1556 - MAE: 3.1556 - val_loss: 2.9400 - val_MAE: 2.9400\n",
      "Epoch 7/80\n",
      "121/121 [==============================] - 0s 4ms/step - loss: 3.0879 - MAE: 3.0879 - val_loss: 2.8918 - val_MAE: 2.8918\n",
      "Epoch 8/80\n",
      "121/121 [==============================] - 0s 3ms/step - loss: 3.0282 - MAE: 3.0282 - val_loss: 2.8562 - val_MAE: 2.8562\n",
      "Epoch 9/80\n",
      "121/121 [==============================] - 0s 3ms/step - loss: 2.9779 - MAE: 2.9779 - val_loss: 2.8042 - val_MAE: 2.8042\n",
      "Epoch 10/80\n",
      "121/121 [==============================] - 0s 2ms/step - loss: 2.9291 - MAE: 2.9291 - val_loss: 2.7507 - val_MAE: 2.7507\n",
      "Epoch 11/80\n",
      "121/121 [==============================] - 0s 3ms/step - loss: 2.8863 - MAE: 2.8863 - val_loss: 2.7247 - val_MAE: 2.7247\n",
      "Epoch 12/80\n",
      "121/121 [==============================] - 0s 3ms/step - loss: 2.8369 - MAE: 2.8369 - val_loss: 2.6923 - val_MAE: 2.6923\n",
      "Epoch 13/80\n",
      "121/121 [==============================] - 0s 2ms/step - loss: 2.7961 - MAE: 2.7961 - val_loss: 2.6471 - val_MAE: 2.6471\n",
      "Epoch 14/80\n",
      "121/121 [==============================] - 0s 2ms/step - loss: 2.7528 - MAE: 2.7528 - val_loss: 2.6108 - val_MAE: 2.6108\n",
      "Epoch 15/80\n",
      "121/121 [==============================] - 0s 2ms/step - loss: 2.7155 - MAE: 2.7155 - val_loss: 2.5604 - val_MAE: 2.5604\n",
      "Epoch 16/80\n",
      "121/121 [==============================] - 0s 2ms/step - loss: 2.6826 - MAE: 2.6826 - val_loss: 2.5389 - val_MAE: 2.5389\n",
      "Epoch 17/80\n",
      "121/121 [==============================] - 0s 3ms/step - loss: 2.6472 - MAE: 2.6472 - val_loss: 2.5119 - val_MAE: 2.5119\n",
      "Epoch 18/80\n",
      "121/121 [==============================] - 0s 3ms/step - loss: 2.6073 - MAE: 2.6073 - val_loss: 2.4515 - val_MAE: 2.4515\n",
      "Epoch 19/80\n",
      "121/121 [==============================] - 0s 3ms/step - loss: 2.5688 - MAE: 2.5688 - val_loss: 2.4336 - val_MAE: 2.4336\n",
      "Epoch 20/80\n",
      "121/121 [==============================] - 0s 3ms/step - loss: 2.5339 - MAE: 2.5339 - val_loss: 2.3879 - val_MAE: 2.3879\n",
      "Epoch 21/80\n",
      "121/121 [==============================] - 0s 3ms/step - loss: 2.4972 - MAE: 2.4972 - val_loss: 2.3644 - val_MAE: 2.3644\n",
      "Epoch 22/80\n",
      "121/121 [==============================] - 0s 2ms/step - loss: 2.4591 - MAE: 2.4591 - val_loss: 2.3129 - val_MAE: 2.3129\n",
      "Epoch 23/80\n",
      "121/121 [==============================] - 0s 2ms/step - loss: 2.4357 - MAE: 2.4357 - val_loss: 2.3147 - val_MAE: 2.3147\n",
      "Epoch 24/80\n",
      "121/121 [==============================] - 0s 3ms/step - loss: 2.4091 - MAE: 2.4091 - val_loss: 2.2821 - val_MAE: 2.2821\n",
      "Epoch 25/80\n",
      "121/121 [==============================] - 0s 3ms/step - loss: 2.3769 - MAE: 2.3769 - val_loss: 2.2441 - val_MAE: 2.2441\n",
      "Epoch 26/80\n",
      "121/121 [==============================] - 0s 3ms/step - loss: 2.3483 - MAE: 2.3483 - val_loss: 2.2257 - val_MAE: 2.2257\n",
      "Epoch 27/80\n",
      "121/121 [==============================] - 0s 3ms/step - loss: 2.3172 - MAE: 2.3172 - val_loss: 2.2317 - val_MAE: 2.2317\n",
      "Epoch 28/80\n",
      "121/121 [==============================] - 0s 3ms/step - loss: 2.2966 - MAE: 2.2966 - val_loss: 2.2181 - val_MAE: 2.2181\n",
      "Epoch 29/80\n",
      "121/121 [==============================] - 0s 3ms/step - loss: 2.2826 - MAE: 2.2826 - val_loss: 2.1752 - val_MAE: 2.1752\n",
      "Epoch 30/80\n",
      "121/121 [==============================] - 0s 2ms/step - loss: 2.2503 - MAE: 2.2503 - val_loss: 2.1474 - val_MAE: 2.1474\n",
      "Epoch 31/80\n",
      "121/121 [==============================] - 0s 3ms/step - loss: 2.2350 - MAE: 2.2350 - val_loss: 2.1358 - val_MAE: 2.1358\n",
      "Epoch 32/80\n",
      "121/121 [==============================] - 0s 3ms/step - loss: 2.2199 - MAE: 2.2199 - val_loss: 2.1342 - val_MAE: 2.1342\n",
      "Epoch 33/80\n",
      "121/121 [==============================] - 0s 3ms/step - loss: 2.2002 - MAE: 2.2002 - val_loss: 2.1154 - val_MAE: 2.1154\n",
      "Epoch 34/80\n",
      "121/121 [==============================] - 0s 2ms/step - loss: 2.1847 - MAE: 2.1847 - val_loss: 2.1100 - val_MAE: 2.1100\n",
      "Epoch 35/80\n",
      "121/121 [==============================] - 0s 2ms/step - loss: 2.1694 - MAE: 2.1694 - val_loss: 2.0947 - val_MAE: 2.0947\n",
      "Epoch 36/80\n",
      "121/121 [==============================] - 0s 3ms/step - loss: 2.1565 - MAE: 2.1565 - val_loss: 2.1015 - val_MAE: 2.1015\n",
      "Epoch 37/80\n",
      "121/121 [==============================] - 0s 3ms/step - loss: 2.1488 - MAE: 2.1488 - val_loss: 2.0719 - val_MAE: 2.0719\n",
      "Epoch 38/80\n",
      "121/121 [==============================] - 0s 3ms/step - loss: 2.1335 - MAE: 2.1335 - val_loss: 2.0772 - val_MAE: 2.0772\n",
      "Epoch 39/80\n",
      "121/121 [==============================] - 0s 3ms/step - loss: 2.1268 - MAE: 2.1268 - val_loss: 2.0607 - val_MAE: 2.0607\n",
      "Epoch 40/80\n",
      "121/121 [==============================] - 0s 2ms/step - loss: 2.1159 - MAE: 2.1159 - val_loss: 2.0628 - val_MAE: 2.0628\n",
      "Epoch 41/80\n",
      "121/121 [==============================] - 0s 3ms/step - loss: 2.1110 - MAE: 2.1110 - val_loss: 2.0696 - val_MAE: 2.0696\n",
      "Epoch 42/80\n",
      "121/121 [==============================] - 0s 2ms/step - loss: 2.1020 - MAE: 2.1020 - val_loss: 2.0358 - val_MAE: 2.0358\n",
      "Epoch 43/80\n",
      "121/121 [==============================] - 0s 3ms/step - loss: 2.0923 - MAE: 2.0923 - val_loss: 2.0350 - val_MAE: 2.0350\n",
      "Epoch 44/80\n",
      "121/121 [==============================] - 0s 2ms/step - loss: 2.0894 - MAE: 2.0894 - val_loss: 2.0382 - val_MAE: 2.0382\n",
      "Epoch 45/80\n",
      "121/121 [==============================] - 0s 3ms/step - loss: 2.0813 - MAE: 2.0813 - val_loss: 2.0165 - val_MAE: 2.0165\n",
      "Epoch 46/80\n",
      "121/121 [==============================] - 0s 2ms/step - loss: 2.0678 - MAE: 2.0678 - val_loss: 2.0067 - val_MAE: 2.0067\n",
      "Epoch 47/80\n",
      "121/121 [==============================] - 0s 3ms/step - loss: 2.0625 - MAE: 2.0625 - val_loss: 2.0217 - val_MAE: 2.0217\n",
      "Epoch 48/80\n",
      "121/121 [==============================] - 0s 2ms/step - loss: 2.0585 - MAE: 2.0585 - val_loss: 2.0064 - val_MAE: 2.0064\n",
      "Epoch 49/80\n",
      "121/121 [==============================] - 0s 3ms/step - loss: 2.0489 - MAE: 2.0489 - val_loss: 2.0117 - val_MAE: 2.0117\n",
      "Epoch 50/80\n",
      "121/121 [==============================] - 0s 3ms/step - loss: 2.0488 - MAE: 2.0488 - val_loss: 1.9976 - val_MAE: 1.9976\n",
      "Epoch 51/80\n",
      "121/121 [==============================] - 0s 3ms/step - loss: 2.0367 - MAE: 2.0367 - val_loss: 2.0040 - val_MAE: 2.0040\n",
      "Epoch 52/80\n",
      "121/121 [==============================] - 0s 2ms/step - loss: 2.0386 - MAE: 2.0386 - val_loss: 2.0151 - val_MAE: 2.0151\n",
      "Epoch 53/80\n",
      "121/121 [==============================] - 0s 3ms/step - loss: 2.0269 - MAE: 2.0269 - val_loss: 1.9832 - val_MAE: 1.9832\n",
      "Epoch 54/80\n",
      "121/121 [==============================] - 0s 2ms/step - loss: 2.0216 - MAE: 2.0216 - val_loss: 1.9777 - val_MAE: 1.9777\n",
      "Epoch 55/80\n",
      "121/121 [==============================] - 0s 3ms/step - loss: 2.0182 - MAE: 2.0182 - val_loss: 1.9829 - val_MAE: 1.9829\n",
      "Epoch 56/80\n",
      "121/121 [==============================] - 0s 2ms/step - loss: 2.0158 - MAE: 2.0158 - val_loss: 1.9810 - val_MAE: 1.9810\n",
      "Epoch 57/80\n",
      "121/121 [==============================] - 0s 3ms/step - loss: 2.0119 - MAE: 2.0119 - val_loss: 1.9785 - val_MAE: 1.9785\n",
      "Epoch 58/80\n",
      "121/121 [==============================] - 0s 2ms/step - loss: 2.0024 - MAE: 2.0024 - val_loss: 1.9881 - val_MAE: 1.9881\n",
      "Epoch 59/80\n",
      "121/121 [==============================] - 0s 3ms/step - loss: 1.9986 - MAE: 1.9986 - val_loss: 1.9617 - val_MAE: 1.9617\n",
      "Epoch 60/80\n",
      "121/121 [==============================] - 0s 2ms/step - loss: 1.9916 - MAE: 1.9916 - val_loss: 2.0015 - val_MAE: 2.0015\n",
      "Epoch 61/80\n",
      "121/121 [==============================] - 0s 2ms/step - loss: 1.9891 - MAE: 1.9891 - val_loss: 1.9898 - val_MAE: 1.9898\n",
      "Epoch 62/80\n"
     ]
    },
    {
     "name": "stdout",
     "output_type": "stream",
     "text": [
      "121/121 [==============================] - 0s 3ms/step - loss: 1.9881 - MAE: 1.9881 - val_loss: 1.9724 - val_MAE: 1.9724\n",
      "Epoch 63/80\n",
      "121/121 [==============================] - 0s 2ms/step - loss: 1.9845 - MAE: 1.9845 - val_loss: 1.9468 - val_MAE: 1.9468\n",
      "Epoch 64/80\n",
      "121/121 [==============================] - 0s 2ms/step - loss: 1.9762 - MAE: 1.9762 - val_loss: 1.9567 - val_MAE: 1.9567\n",
      "Epoch 65/80\n",
      "121/121 [==============================] - 0s 2ms/step - loss: 1.9773 - MAE: 1.9773 - val_loss: 1.9606 - val_MAE: 1.9606\n",
      "Epoch 66/80\n",
      "121/121 [==============================] - 0s 2ms/step - loss: 1.9686 - MAE: 1.9686 - val_loss: 1.9707 - val_MAE: 1.9707\n",
      "Epoch 67/80\n",
      "121/121 [==============================] - 0s 3ms/step - loss: 1.9662 - MAE: 1.9662 - val_loss: 1.9372 - val_MAE: 1.9372\n",
      "Epoch 68/80\n",
      "121/121 [==============================] - 0s 2ms/step - loss: 1.9661 - MAE: 1.9661 - val_loss: 1.9272 - val_MAE: 1.9272\n",
      "Epoch 69/80\n",
      "121/121 [==============================] - 0s 2ms/step - loss: 1.9596 - MAE: 1.9596 - val_loss: 1.9309 - val_MAE: 1.9309\n",
      "Epoch 70/80\n",
      "121/121 [==============================] - 0s 2ms/step - loss: 1.9566 - MAE: 1.9566 - val_loss: 1.9392 - val_MAE: 1.9392\n",
      "Epoch 71/80\n",
      "121/121 [==============================] - 0s 3ms/step - loss: 1.9574 - MAE: 1.9574 - val_loss: 1.9219 - val_MAE: 1.9219\n",
      "Epoch 72/80\n",
      "121/121 [==============================] - 0s 3ms/step - loss: 1.9489 - MAE: 1.9489 - val_loss: 1.9233 - val_MAE: 1.9233\n",
      "Epoch 73/80\n",
      "121/121 [==============================] - 0s 3ms/step - loss: 1.9435 - MAE: 1.9435 - val_loss: 1.9336 - val_MAE: 1.9336\n",
      "Epoch 74/80\n",
      "121/121 [==============================] - 0s 2ms/step - loss: 1.9429 - MAE: 1.9429 - val_loss: 1.9287 - val_MAE: 1.9287\n",
      "Epoch 75/80\n",
      "121/121 [==============================] - 0s 3ms/step - loss: 1.9381 - MAE: 1.9381 - val_loss: 1.9466 - val_MAE: 1.9466\n",
      "Epoch 76/80\n",
      "121/121 [==============================] - 0s 2ms/step - loss: 1.9354 - MAE: 1.9354 - val_loss: 1.9030 - val_MAE: 1.9030\n",
      "Epoch 77/80\n",
      "121/121 [==============================] - 0s 2ms/step - loss: 1.9320 - MAE: 1.9320 - val_loss: 1.9326 - val_MAE: 1.9326\n",
      "Epoch 78/80\n",
      "121/121 [==============================] - 0s 3ms/step - loss: 1.9323 - MAE: 1.9323 - val_loss: 1.9055 - val_MAE: 1.9055\n",
      "Epoch 79/80\n",
      "121/121 [==============================] - 0s 3ms/step - loss: 1.9248 - MAE: 1.9248 - val_loss: 1.9178 - val_MAE: 1.9178\n",
      "Epoch 80/80\n",
      "121/121 [==============================] - 0s 3ms/step - loss: 1.9329 - MAE: 1.9329 - val_loss: 1.9035 - val_MAE: 1.9035\n"
     ]
    },
    {
     "data": {
      "text/plain": [
       "<keras.src.callbacks.History at 0x26a4801c700>"
      ]
     },
     "execution_count": 19,
     "metadata": {},
     "output_type": "execute_result"
    }
   ],
   "source": [
    "model.fit(x_train, y_train,epochs=80, validation_split=0.2, callbacks=[early_stopping])"
   ]
  },
  {
   "cell_type": "code",
   "execution_count": 20,
   "id": "088228dc",
   "metadata": {},
   "outputs": [
    {
     "name": "stdout",
     "output_type": "stream",
     "text": [
      "38/38 [==============================] - 0s 2ms/step - loss: 2.1611 - MAE: 2.1611\n",
      "Test Loss: 2.161057233810425, Test MAE: 2.161057233810425\n"
     ]
    }
   ],
   "source": [
    "test_loss, test_mae = model.evaluate(x_test, y_test)\n",
    "print(f\"Test Loss: {test_loss}, Test MAE: {test_mae}\")"
   ]
  },
  {
   "cell_type": "code",
   "execution_count": 21,
   "id": "067a66f4",
   "metadata": {},
   "outputs": [
    {
     "name": "stdout",
     "output_type": "stream",
     "text": [
      "38/38 [==============================] - 0s 2ms/step\n"
     ]
    }
   ],
   "source": [
    "y_pred = model.predict(x_test)\n",
    "y_pred = np.argmax(y_pred, axis=1)"
   ]
  },
  {
   "cell_type": "code",
   "execution_count": null,
   "id": "78948283",
   "metadata": {},
   "outputs": [],
   "source": []
  }
 ],
 "metadata": {
  "kernelspec": {
   "display_name": "Python 3 (ipykernel)",
   "language": "python",
   "name": "python3"
  },
  "language_info": {
   "codemirror_mode": {
    "name": "ipython",
    "version": 3
   },
   "file_extension": ".py",
   "mimetype": "text/x-python",
   "name": "python",
   "nbconvert_exporter": "python",
   "pygments_lexer": "ipython3",
   "version": "3.9.12"
  }
 },
 "nbformat": 4,
 "nbformat_minor": 5
}
