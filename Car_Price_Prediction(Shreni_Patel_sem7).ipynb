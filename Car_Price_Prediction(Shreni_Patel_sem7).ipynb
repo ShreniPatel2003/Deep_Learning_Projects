{
  "cells": [
    {
      "cell_type": "markdown",
      "metadata": {
        "id": "view-in-github",
        "colab_type": "text"
      },
      "source": [
        "<a href=\"https://colab.research.google.com/github/ShreniPatel2003/Deep_Learning_Projects/blob/main/Car_Price_Prediction(Shreni_Patel_sem7).ipynb\" target=\"_parent\"><img src=\"https://colab.research.google.com/assets/colab-badge.svg\" alt=\"Open In Colab\"/></a>"
      ]
    },
    {
      "cell_type": "markdown",
      "id": "87b141c7",
      "metadata": {
        "id": "87b141c7"
      },
      "source": [
        "# Name: Patel Shreni Pranav\n",
        "\n",
        "# Data Science (Sem - 7)"
      ]
    },
    {
      "cell_type": "code",
      "execution_count": 1,
      "id": "06631146",
      "metadata": {
        "id": "06631146"
      },
      "outputs": [],
      "source": [
        "# Importing libraries\n",
        "import tensorflow as tf\n",
        "from tensorflow.keras.models import Sequential\n",
        "from tensorflow.keras.layers import Dense\n",
        "from tensorflow.keras.callbacks import EarlyStopping\n",
        "from sklearn.preprocessing import StandardScaler\n",
        "from sklearn.metrics import confusion_matrix\n",
        "import numpy as np\n",
        "import pandas as pd\n",
        "import seaborn as sns\n",
        "import matplotlib.pyplot as plt"
      ]
    },
    {
      "cell_type": "code",
      "execution_count": 2,
      "id": "1e31ba1a",
      "metadata": {
        "id": "1e31ba1a"
      },
      "outputs": [],
      "source": [
        "#Loading data\n",
        "data = pd.read_csv(\"car-data.csv\")"
      ]
    },
    {
      "cell_type": "code",
      "execution_count": 3,
      "id": "62fd4eb8",
      "metadata": {
        "colab": {
          "base_uri": "https://localhost:8080/",
          "height": 441
        },
        "id": "62fd4eb8",
        "outputId": "1af16a0f-4bcb-4ae0-a485-2a22b19991e9"
      },
      "outputs": [
        {
          "output_type": "execute_result",
          "data": {
            "text/plain": [
              "   Unnamed: 0                              Name    Location  Year  \\\n",
              "0           0            Maruti Wagon R LXI CNG      Mumbai  2010   \n",
              "1           1  Hyundai Creta 1.6 CRDi SX Option        Pune  2015   \n",
              "2           2                      Honda Jazz V     Chennai  2011   \n",
              "3           3                 Maruti Ertiga VDI     Chennai  2012   \n",
              "4           4   Audi A4 New 2.0 TDI Multitronic  Coimbatore  2013   \n",
              "\n",
              "   Kilometers_Driven Fuel_Type Transmission Owner_Type     Mileage   Engine  \\\n",
              "0              72000       CNG       Manual      First  26.6 km/kg   998 CC   \n",
              "1              41000    Diesel       Manual      First  19.67 kmpl  1582 CC   \n",
              "2              46000    Petrol       Manual      First   18.2 kmpl  1199 CC   \n",
              "3              87000    Diesel       Manual      First  20.77 kmpl  1248 CC   \n",
              "4              40670    Diesel    Automatic     Second   15.2 kmpl  1968 CC   \n",
              "\n",
              "       Power  Seats  New_Price  Price  \n",
              "0  58.16 bhp    5.0        NaN   1.75  \n",
              "1  126.2 bhp    5.0        NaN  12.50  \n",
              "2   88.7 bhp    5.0  8.61 Lakh   4.50  \n",
              "3  88.76 bhp    7.0        NaN   6.00  \n",
              "4  140.8 bhp    5.0        NaN  17.74  "
            ],
            "text/html": [
              "\n",
              "  <div id=\"df-562d08cb-e736-483b-8ddf-f0cd8341d085\">\n",
              "    <div class=\"colab-df-container\">\n",
              "      <div>\n",
              "<style scoped>\n",
              "    .dataframe tbody tr th:only-of-type {\n",
              "        vertical-align: middle;\n",
              "    }\n",
              "\n",
              "    .dataframe tbody tr th {\n",
              "        vertical-align: top;\n",
              "    }\n",
              "\n",
              "    .dataframe thead th {\n",
              "        text-align: right;\n",
              "    }\n",
              "</style>\n",
              "<table border=\"1\" class=\"dataframe\">\n",
              "  <thead>\n",
              "    <tr style=\"text-align: right;\">\n",
              "      <th></th>\n",
              "      <th>Unnamed: 0</th>\n",
              "      <th>Name</th>\n",
              "      <th>Location</th>\n",
              "      <th>Year</th>\n",
              "      <th>Kilometers_Driven</th>\n",
              "      <th>Fuel_Type</th>\n",
              "      <th>Transmission</th>\n",
              "      <th>Owner_Type</th>\n",
              "      <th>Mileage</th>\n",
              "      <th>Engine</th>\n",
              "      <th>Power</th>\n",
              "      <th>Seats</th>\n",
              "      <th>New_Price</th>\n",
              "      <th>Price</th>\n",
              "    </tr>\n",
              "  </thead>\n",
              "  <tbody>\n",
              "    <tr>\n",
              "      <th>0</th>\n",
              "      <td>0</td>\n",
              "      <td>Maruti Wagon R LXI CNG</td>\n",
              "      <td>Mumbai</td>\n",
              "      <td>2010</td>\n",
              "      <td>72000</td>\n",
              "      <td>CNG</td>\n",
              "      <td>Manual</td>\n",
              "      <td>First</td>\n",
              "      <td>26.6 km/kg</td>\n",
              "      <td>998 CC</td>\n",
              "      <td>58.16 bhp</td>\n",
              "      <td>5.0</td>\n",
              "      <td>NaN</td>\n",
              "      <td>1.75</td>\n",
              "    </tr>\n",
              "    <tr>\n",
              "      <th>1</th>\n",
              "      <td>1</td>\n",
              "      <td>Hyundai Creta 1.6 CRDi SX Option</td>\n",
              "      <td>Pune</td>\n",
              "      <td>2015</td>\n",
              "      <td>41000</td>\n",
              "      <td>Diesel</td>\n",
              "      <td>Manual</td>\n",
              "      <td>First</td>\n",
              "      <td>19.67 kmpl</td>\n",
              "      <td>1582 CC</td>\n",
              "      <td>126.2 bhp</td>\n",
              "      <td>5.0</td>\n",
              "      <td>NaN</td>\n",
              "      <td>12.50</td>\n",
              "    </tr>\n",
              "    <tr>\n",
              "      <th>2</th>\n",
              "      <td>2</td>\n",
              "      <td>Honda Jazz V</td>\n",
              "      <td>Chennai</td>\n",
              "      <td>2011</td>\n",
              "      <td>46000</td>\n",
              "      <td>Petrol</td>\n",
              "      <td>Manual</td>\n",
              "      <td>First</td>\n",
              "      <td>18.2 kmpl</td>\n",
              "      <td>1199 CC</td>\n",
              "      <td>88.7 bhp</td>\n",
              "      <td>5.0</td>\n",
              "      <td>8.61 Lakh</td>\n",
              "      <td>4.50</td>\n",
              "    </tr>\n",
              "    <tr>\n",
              "      <th>3</th>\n",
              "      <td>3</td>\n",
              "      <td>Maruti Ertiga VDI</td>\n",
              "      <td>Chennai</td>\n",
              "      <td>2012</td>\n",
              "      <td>87000</td>\n",
              "      <td>Diesel</td>\n",
              "      <td>Manual</td>\n",
              "      <td>First</td>\n",
              "      <td>20.77 kmpl</td>\n",
              "      <td>1248 CC</td>\n",
              "      <td>88.76 bhp</td>\n",
              "      <td>7.0</td>\n",
              "      <td>NaN</td>\n",
              "      <td>6.00</td>\n",
              "    </tr>\n",
              "    <tr>\n",
              "      <th>4</th>\n",
              "      <td>4</td>\n",
              "      <td>Audi A4 New 2.0 TDI Multitronic</td>\n",
              "      <td>Coimbatore</td>\n",
              "      <td>2013</td>\n",
              "      <td>40670</td>\n",
              "      <td>Diesel</td>\n",
              "      <td>Automatic</td>\n",
              "      <td>Second</td>\n",
              "      <td>15.2 kmpl</td>\n",
              "      <td>1968 CC</td>\n",
              "      <td>140.8 bhp</td>\n",
              "      <td>5.0</td>\n",
              "      <td>NaN</td>\n",
              "      <td>17.74</td>\n",
              "    </tr>\n",
              "  </tbody>\n",
              "</table>\n",
              "</div>\n",
              "      <button class=\"colab-df-convert\" onclick=\"convertToInteractive('df-562d08cb-e736-483b-8ddf-f0cd8341d085')\"\n",
              "              title=\"Convert this dataframe to an interactive table.\"\n",
              "              style=\"display:none;\">\n",
              "        \n",
              "  <svg xmlns=\"http://www.w3.org/2000/svg\" height=\"24px\"viewBox=\"0 0 24 24\"\n",
              "       width=\"24px\">\n",
              "    <path d=\"M0 0h24v24H0V0z\" fill=\"none\"/>\n",
              "    <path d=\"M18.56 5.44l.94 2.06.94-2.06 2.06-.94-2.06-.94-.94-2.06-.94 2.06-2.06.94zm-11 1L8.5 8.5l.94-2.06 2.06-.94-2.06-.94L8.5 2.5l-.94 2.06-2.06.94zm10 10l.94 2.06.94-2.06 2.06-.94-2.06-.94-.94-2.06-.94 2.06-2.06.94z\"/><path d=\"M17.41 7.96l-1.37-1.37c-.4-.4-.92-.59-1.43-.59-.52 0-1.04.2-1.43.59L10.3 9.45l-7.72 7.72c-.78.78-.78 2.05 0 2.83L4 21.41c.39.39.9.59 1.41.59.51 0 1.02-.2 1.41-.59l7.78-7.78 2.81-2.81c.8-.78.8-2.07 0-2.86zM5.41 20L4 18.59l7.72-7.72 1.47 1.35L5.41 20z\"/>\n",
              "  </svg>\n",
              "      </button>\n",
              "      \n",
              "  <style>\n",
              "    .colab-df-container {\n",
              "      display:flex;\n",
              "      flex-wrap:wrap;\n",
              "      gap: 12px;\n",
              "    }\n",
              "\n",
              "    .colab-df-convert {\n",
              "      background-color: #E8F0FE;\n",
              "      border: none;\n",
              "      border-radius: 50%;\n",
              "      cursor: pointer;\n",
              "      display: none;\n",
              "      fill: #1967D2;\n",
              "      height: 32px;\n",
              "      padding: 0 0 0 0;\n",
              "      width: 32px;\n",
              "    }\n",
              "\n",
              "    .colab-df-convert:hover {\n",
              "      background-color: #E2EBFA;\n",
              "      box-shadow: 0px 1px 2px rgba(60, 64, 67, 0.3), 0px 1px 3px 1px rgba(60, 64, 67, 0.15);\n",
              "      fill: #174EA6;\n",
              "    }\n",
              "\n",
              "    [theme=dark] .colab-df-convert {\n",
              "      background-color: #3B4455;\n",
              "      fill: #D2E3FC;\n",
              "    }\n",
              "\n",
              "    [theme=dark] .colab-df-convert:hover {\n",
              "      background-color: #434B5C;\n",
              "      box-shadow: 0px 1px 3px 1px rgba(0, 0, 0, 0.15);\n",
              "      filter: drop-shadow(0px 1px 2px rgba(0, 0, 0, 0.3));\n",
              "      fill: #FFFFFF;\n",
              "    }\n",
              "  </style>\n",
              "\n",
              "      <script>\n",
              "        const buttonEl =\n",
              "          document.querySelector('#df-562d08cb-e736-483b-8ddf-f0cd8341d085 button.colab-df-convert');\n",
              "        buttonEl.style.display =\n",
              "          google.colab.kernel.accessAllowed ? 'block' : 'none';\n",
              "\n",
              "        async function convertToInteractive(key) {\n",
              "          const element = document.querySelector('#df-562d08cb-e736-483b-8ddf-f0cd8341d085');\n",
              "          const dataTable =\n",
              "            await google.colab.kernel.invokeFunction('convertToInteractive',\n",
              "                                                     [key], {});\n",
              "          if (!dataTable) return;\n",
              "\n",
              "          const docLinkHtml = 'Like what you see? Visit the ' +\n",
              "            '<a target=\"_blank\" href=https://colab.research.google.com/notebooks/data_table.ipynb>data table notebook</a>'\n",
              "            + ' to learn more about interactive tables.';\n",
              "          element.innerHTML = '';\n",
              "          dataTable['output_type'] = 'display_data';\n",
              "          await google.colab.output.renderOutput(dataTable, element);\n",
              "          const docLink = document.createElement('div');\n",
              "          docLink.innerHTML = docLinkHtml;\n",
              "          element.appendChild(docLink);\n",
              "        }\n",
              "      </script>\n",
              "    </div>\n",
              "  </div>\n",
              "  "
            ]
          },
          "metadata": {},
          "execution_count": 3
        }
      ],
      "source": [
        "data.head()"
      ]
    },
    {
      "cell_type": "code",
      "execution_count": 4,
      "id": "20da8ece",
      "metadata": {
        "colab": {
          "base_uri": "https://localhost:8080/"
        },
        "id": "20da8ece",
        "outputId": "d85c547f-4fcf-4484-f122-dc51afba7a7c"
      },
      "outputs": [
        {
          "output_type": "execute_result",
          "data": {
            "text/plain": [
              "(6019, 14)"
            ]
          },
          "metadata": {},
          "execution_count": 4
        }
      ],
      "source": [
        "data.shape"
      ]
    },
    {
      "cell_type": "code",
      "execution_count": 5,
      "id": "346131c0",
      "metadata": {
        "colab": {
          "base_uri": "https://localhost:8080/"
        },
        "id": "346131c0",
        "outputId": "39cb5b58-b577-42fb-8b6a-1f26e2702810"
      },
      "outputs": [
        {
          "output_type": "stream",
          "name": "stdout",
          "text": [
            "<class 'pandas.core.frame.DataFrame'>\n",
            "RangeIndex: 6019 entries, 0 to 6018\n",
            "Data columns (total 14 columns):\n",
            " #   Column             Non-Null Count  Dtype  \n",
            "---  ------             --------------  -----  \n",
            " 0   Unnamed: 0         6019 non-null   int64  \n",
            " 1   Name               6019 non-null   object \n",
            " 2   Location           6019 non-null   object \n",
            " 3   Year               6019 non-null   int64  \n",
            " 4   Kilometers_Driven  6019 non-null   int64  \n",
            " 5   Fuel_Type          6019 non-null   object \n",
            " 6   Transmission       6019 non-null   object \n",
            " 7   Owner_Type         6019 non-null   object \n",
            " 8   Mileage            6017 non-null   object \n",
            " 9   Engine             5983 non-null   object \n",
            " 10  Power              5983 non-null   object \n",
            " 11  Seats              5977 non-null   float64\n",
            " 12  New_Price          824 non-null    object \n",
            " 13  Price              6019 non-null   float64\n",
            "dtypes: float64(2), int64(3), object(9)\n",
            "memory usage: 658.5+ KB\n"
          ]
        }
      ],
      "source": [
        "data.info()"
      ]
    },
    {
      "cell_type": "code",
      "execution_count": 6,
      "id": "d52271e3",
      "metadata": {
        "colab": {
          "base_uri": "https://localhost:8080/",
          "height": 300
        },
        "id": "d52271e3",
        "outputId": "df8e8499-68d6-43c8-8cc0-bb65cbbef203"
      },
      "outputs": [
        {
          "output_type": "execute_result",
          "data": {
            "text/plain": [
              "        Unnamed: 0         Year  Kilometers_Driven        Seats        Price\n",
              "count  6019.000000  6019.000000       6.019000e+03  5977.000000  6019.000000\n",
              "mean   3009.000000  2013.358199       5.873838e+04     5.278735     9.479468\n",
              "std    1737.679967     3.269742       9.126884e+04     0.808840    11.187917\n",
              "min       0.000000  1998.000000       1.710000e+02     0.000000     0.440000\n",
              "25%    1504.500000  2011.000000       3.400000e+04     5.000000     3.500000\n",
              "50%    3009.000000  2014.000000       5.300000e+04     5.000000     5.640000\n",
              "75%    4513.500000  2016.000000       7.300000e+04     5.000000     9.950000\n",
              "max    6018.000000  2019.000000       6.500000e+06    10.000000   160.000000"
            ],
            "text/html": [
              "\n",
              "  <div id=\"df-c012c3dc-8728-4849-9631-a1aa4d9cbeb8\">\n",
              "    <div class=\"colab-df-container\">\n",
              "      <div>\n",
              "<style scoped>\n",
              "    .dataframe tbody tr th:only-of-type {\n",
              "        vertical-align: middle;\n",
              "    }\n",
              "\n",
              "    .dataframe tbody tr th {\n",
              "        vertical-align: top;\n",
              "    }\n",
              "\n",
              "    .dataframe thead th {\n",
              "        text-align: right;\n",
              "    }\n",
              "</style>\n",
              "<table border=\"1\" class=\"dataframe\">\n",
              "  <thead>\n",
              "    <tr style=\"text-align: right;\">\n",
              "      <th></th>\n",
              "      <th>Unnamed: 0</th>\n",
              "      <th>Year</th>\n",
              "      <th>Kilometers_Driven</th>\n",
              "      <th>Seats</th>\n",
              "      <th>Price</th>\n",
              "    </tr>\n",
              "  </thead>\n",
              "  <tbody>\n",
              "    <tr>\n",
              "      <th>count</th>\n",
              "      <td>6019.000000</td>\n",
              "      <td>6019.000000</td>\n",
              "      <td>6.019000e+03</td>\n",
              "      <td>5977.000000</td>\n",
              "      <td>6019.000000</td>\n",
              "    </tr>\n",
              "    <tr>\n",
              "      <th>mean</th>\n",
              "      <td>3009.000000</td>\n",
              "      <td>2013.358199</td>\n",
              "      <td>5.873838e+04</td>\n",
              "      <td>5.278735</td>\n",
              "      <td>9.479468</td>\n",
              "    </tr>\n",
              "    <tr>\n",
              "      <th>std</th>\n",
              "      <td>1737.679967</td>\n",
              "      <td>3.269742</td>\n",
              "      <td>9.126884e+04</td>\n",
              "      <td>0.808840</td>\n",
              "      <td>11.187917</td>\n",
              "    </tr>\n",
              "    <tr>\n",
              "      <th>min</th>\n",
              "      <td>0.000000</td>\n",
              "      <td>1998.000000</td>\n",
              "      <td>1.710000e+02</td>\n",
              "      <td>0.000000</td>\n",
              "      <td>0.440000</td>\n",
              "    </tr>\n",
              "    <tr>\n",
              "      <th>25%</th>\n",
              "      <td>1504.500000</td>\n",
              "      <td>2011.000000</td>\n",
              "      <td>3.400000e+04</td>\n",
              "      <td>5.000000</td>\n",
              "      <td>3.500000</td>\n",
              "    </tr>\n",
              "    <tr>\n",
              "      <th>50%</th>\n",
              "      <td>3009.000000</td>\n",
              "      <td>2014.000000</td>\n",
              "      <td>5.300000e+04</td>\n",
              "      <td>5.000000</td>\n",
              "      <td>5.640000</td>\n",
              "    </tr>\n",
              "    <tr>\n",
              "      <th>75%</th>\n",
              "      <td>4513.500000</td>\n",
              "      <td>2016.000000</td>\n",
              "      <td>7.300000e+04</td>\n",
              "      <td>5.000000</td>\n",
              "      <td>9.950000</td>\n",
              "    </tr>\n",
              "    <tr>\n",
              "      <th>max</th>\n",
              "      <td>6018.000000</td>\n",
              "      <td>2019.000000</td>\n",
              "      <td>6.500000e+06</td>\n",
              "      <td>10.000000</td>\n",
              "      <td>160.000000</td>\n",
              "    </tr>\n",
              "  </tbody>\n",
              "</table>\n",
              "</div>\n",
              "      <button class=\"colab-df-convert\" onclick=\"convertToInteractive('df-c012c3dc-8728-4849-9631-a1aa4d9cbeb8')\"\n",
              "              title=\"Convert this dataframe to an interactive table.\"\n",
              "              style=\"display:none;\">\n",
              "        \n",
              "  <svg xmlns=\"http://www.w3.org/2000/svg\" height=\"24px\"viewBox=\"0 0 24 24\"\n",
              "       width=\"24px\">\n",
              "    <path d=\"M0 0h24v24H0V0z\" fill=\"none\"/>\n",
              "    <path d=\"M18.56 5.44l.94 2.06.94-2.06 2.06-.94-2.06-.94-.94-2.06-.94 2.06-2.06.94zm-11 1L8.5 8.5l.94-2.06 2.06-.94-2.06-.94L8.5 2.5l-.94 2.06-2.06.94zm10 10l.94 2.06.94-2.06 2.06-.94-2.06-.94-.94-2.06-.94 2.06-2.06.94z\"/><path d=\"M17.41 7.96l-1.37-1.37c-.4-.4-.92-.59-1.43-.59-.52 0-1.04.2-1.43.59L10.3 9.45l-7.72 7.72c-.78.78-.78 2.05 0 2.83L4 21.41c.39.39.9.59 1.41.59.51 0 1.02-.2 1.41-.59l7.78-7.78 2.81-2.81c.8-.78.8-2.07 0-2.86zM5.41 20L4 18.59l7.72-7.72 1.47 1.35L5.41 20z\"/>\n",
              "  </svg>\n",
              "      </button>\n",
              "      \n",
              "  <style>\n",
              "    .colab-df-container {\n",
              "      display:flex;\n",
              "      flex-wrap:wrap;\n",
              "      gap: 12px;\n",
              "    }\n",
              "\n",
              "    .colab-df-convert {\n",
              "      background-color: #E8F0FE;\n",
              "      border: none;\n",
              "      border-radius: 50%;\n",
              "      cursor: pointer;\n",
              "      display: none;\n",
              "      fill: #1967D2;\n",
              "      height: 32px;\n",
              "      padding: 0 0 0 0;\n",
              "      width: 32px;\n",
              "    }\n",
              "\n",
              "    .colab-df-convert:hover {\n",
              "      background-color: #E2EBFA;\n",
              "      box-shadow: 0px 1px 2px rgba(60, 64, 67, 0.3), 0px 1px 3px 1px rgba(60, 64, 67, 0.15);\n",
              "      fill: #174EA6;\n",
              "    }\n",
              "\n",
              "    [theme=dark] .colab-df-convert {\n",
              "      background-color: #3B4455;\n",
              "      fill: #D2E3FC;\n",
              "    }\n",
              "\n",
              "    [theme=dark] .colab-df-convert:hover {\n",
              "      background-color: #434B5C;\n",
              "      box-shadow: 0px 1px 3px 1px rgba(0, 0, 0, 0.15);\n",
              "      filter: drop-shadow(0px 1px 2px rgba(0, 0, 0, 0.3));\n",
              "      fill: #FFFFFF;\n",
              "    }\n",
              "  </style>\n",
              "\n",
              "      <script>\n",
              "        const buttonEl =\n",
              "          document.querySelector('#df-c012c3dc-8728-4849-9631-a1aa4d9cbeb8 button.colab-df-convert');\n",
              "        buttonEl.style.display =\n",
              "          google.colab.kernel.accessAllowed ? 'block' : 'none';\n",
              "\n",
              "        async function convertToInteractive(key) {\n",
              "          const element = document.querySelector('#df-c012c3dc-8728-4849-9631-a1aa4d9cbeb8');\n",
              "          const dataTable =\n",
              "            await google.colab.kernel.invokeFunction('convertToInteractive',\n",
              "                                                     [key], {});\n",
              "          if (!dataTable) return;\n",
              "\n",
              "          const docLinkHtml = 'Like what you see? Visit the ' +\n",
              "            '<a target=\"_blank\" href=https://colab.research.google.com/notebooks/data_table.ipynb>data table notebook</a>'\n",
              "            + ' to learn more about interactive tables.';\n",
              "          element.innerHTML = '';\n",
              "          dataTable['output_type'] = 'display_data';\n",
              "          await google.colab.output.renderOutput(dataTable, element);\n",
              "          const docLink = document.createElement('div');\n",
              "          docLink.innerHTML = docLinkHtml;\n",
              "          element.appendChild(docLink);\n",
              "        }\n",
              "      </script>\n",
              "    </div>\n",
              "  </div>\n",
              "  "
            ]
          },
          "metadata": {},
          "execution_count": 6
        }
      ],
      "source": [
        "data.describe()"
      ]
    },
    {
      "cell_type": "code",
      "execution_count": 7,
      "id": "45179d5d",
      "metadata": {
        "colab": {
          "base_uri": "https://localhost:8080/"
        },
        "id": "45179d5d",
        "outputId": "d599b951-3cda-4d93-aa6c-37585c0f9ed4"
      },
      "outputs": [
        {
          "output_type": "execute_result",
          "data": {
            "text/plain": [
              "False"
            ]
          },
          "metadata": {},
          "execution_count": 7
        }
      ],
      "source": [
        "data.duplicated().any()"
      ]
    },
    {
      "cell_type": "code",
      "execution_count": 8,
      "id": "3358d252",
      "metadata": {
        "id": "3358d252"
      },
      "outputs": [],
      "source": [
        "# Handling NaN values with mean imputation for numerical data\n",
        "data_numeric = data.select_dtypes(include=[np.number])\n",
        "data_numeric = data_numeric.fillna(data_numeric.mean())\n",
        "\n",
        "# Handling NaN values with mode imputation for categorical data\n",
        "data_categorical = data.select_dtypes(include=[np.object_])\n",
        "data_categorical = data_categorical.fillna(data_categorical.mode().iloc[0])\n",
        "\n",
        "# Combining the numerical and categorical data\n",
        "data = pd.concat([data_numeric, data_categorical], axis=1)"
      ]
    },
    {
      "cell_type": "code",
      "execution_count": 9,
      "id": "f8fd6d6f",
      "metadata": {
        "id": "f8fd6d6f"
      },
      "outputs": [],
      "source": [
        "from sklearn import preprocessing\n",
        "label_encoder = preprocessing.LabelEncoder()\n",
        "data['Name']= label_encoder.fit_transform(data['Name'])\n",
        "data['Location']= label_encoder.fit_transform(data['Location'])\n",
        "data['Fuel_Type']= label_encoder.fit_transform(data['Fuel_Type'])\n",
        "data['Transmission']= label_encoder.fit_transform(data['Transmission'])\n",
        "data['Owner_Type']= label_encoder.fit_transform(data['Owner_Type'])\n",
        "data['Power']= label_encoder.fit_transform(data['Power'])\n",
        "data['Engine']= label_encoder.fit_transform(data['Engine'])\n",
        "data['Mileage']= label_encoder.fit_transform(data['Mileage'])\n",
        "data['New_Price']= label_encoder.fit_transform(data['New_Price'])"
      ]
    },
    {
      "cell_type": "code",
      "execution_count": 10,
      "id": "0a3cbd7f",
      "metadata": {
        "id": "0a3cbd7f"
      },
      "outputs": [],
      "source": [
        "x = data.drop(columns = ['Unnamed: 0', 'Price'], axis = 1)"
      ]
    },
    {
      "cell_type": "code",
      "execution_count": 11,
      "id": "09924787",
      "metadata": {
        "id": "09924787"
      },
      "outputs": [],
      "source": [
        "y=data['Price']"
      ]
    },
    {
      "cell_type": "code",
      "execution_count": 12,
      "id": "8a85285a",
      "metadata": {
        "id": "8a85285a"
      },
      "outputs": [],
      "source": [
        "from sklearn.model_selection import train_test_split\n",
        "\n",
        "x_train, x_test, y_train, y_test = train_test_split(x, y, test_size = 0.2)"
      ]
    },
    {
      "cell_type": "code",
      "execution_count": 13,
      "id": "330a5511",
      "metadata": {
        "colab": {
          "base_uri": "https://localhost:8080/"
        },
        "id": "330a5511",
        "outputId": "be5bd0eb-a25a-4248-a61f-4d6638061213"
      },
      "outputs": [
        {
          "output_type": "execute_result",
          "data": {
            "text/plain": [
              "(4815, 12)"
            ]
          },
          "metadata": {},
          "execution_count": 13
        }
      ],
      "source": [
        "x_train.shape"
      ]
    },
    {
      "cell_type": "code",
      "execution_count": 14,
      "id": "aa60f4bc",
      "metadata": {
        "colab": {
          "base_uri": "https://localhost:8080/"
        },
        "id": "aa60f4bc",
        "outputId": "f955fd8b-d053-4359-f4ab-7e6614eb35e8"
      },
      "outputs": [
        {
          "output_type": "execute_result",
          "data": {
            "text/plain": [
              "(1204, 12)"
            ]
          },
          "metadata": {},
          "execution_count": 14
        }
      ],
      "source": [
        "x_test.shape"
      ]
    },
    {
      "cell_type": "code",
      "execution_count": 15,
      "id": "fcdbe628",
      "metadata": {
        "id": "fcdbe628"
      },
      "outputs": [],
      "source": [
        "scaler = StandardScaler()\n",
        "x_train = scaler.fit_transform(x_train)\n",
        "x_test = scaler.transform(x_test)"
      ]
    },
    {
      "cell_type": "code",
      "execution_count": 16,
      "id": "ed453748",
      "metadata": {
        "id": "ed453748"
      },
      "outputs": [],
      "source": [
        "model = Sequential()\n",
        "model.add(Dense(20, activation='relu', input_shape=(12,)))\n",
        "model.add(Dense(14, activation='relu'))\n",
        "model.add(Dense(1, activation='relu'))"
      ]
    },
    {
      "cell_type": "code",
      "execution_count": 17,
      "id": "9f8f7f0c",
      "metadata": {
        "id": "9f8f7f0c"
      },
      "outputs": [],
      "source": [
        "model.compile(optimizer='adam',loss = 'mean_absolute_error',metrics = ['MAE'])"
      ]
    },
    {
      "cell_type": "code",
      "execution_count": 18,
      "id": "fb0e3111",
      "metadata": {
        "id": "fb0e3111"
      },
      "outputs": [],
      "source": [
        "early_stopping = EarlyStopping(monitor='MAE', patience=3)"
      ]
    },
    {
      "cell_type": "code",
      "execution_count": 19,
      "id": "30d70335",
      "metadata": {
        "colab": {
          "base_uri": "https://localhost:8080/"
        },
        "id": "30d70335",
        "outputId": "6ea26953-7f46-43f1-c39a-3405c7e4a6e9"
      },
      "outputs": [
        {
          "output_type": "stream",
          "name": "stdout",
          "text": [
            "Epoch 1/80\n",
            "121/121 [==============================] - 3s 8ms/step - loss: 7.1734 - MAE: 7.1734 - val_loss: 6.1351 - val_MAE: 6.1351\n",
            "Epoch 2/80\n",
            "121/121 [==============================] - 0s 4ms/step - loss: 4.9941 - MAE: 4.9941 - val_loss: 4.8640 - val_MAE: 4.8640\n",
            "Epoch 3/80\n",
            "121/121 [==============================] - 1s 5ms/step - loss: 4.0714 - MAE: 4.0714 - val_loss: 4.2168 - val_MAE: 4.2168\n",
            "Epoch 4/80\n",
            "121/121 [==============================] - 1s 4ms/step - loss: 3.5853 - MAE: 3.5853 - val_loss: 3.9198 - val_MAE: 3.9198\n",
            "Epoch 5/80\n",
            "121/121 [==============================] - 0s 4ms/step - loss: 3.3522 - MAE: 3.3522 - val_loss: 3.7301 - val_MAE: 3.7301\n",
            "Epoch 6/80\n",
            "121/121 [==============================] - 1s 4ms/step - loss: 3.1965 - MAE: 3.1965 - val_loss: 3.5954 - val_MAE: 3.5954\n",
            "Epoch 7/80\n",
            "121/121 [==============================] - 1s 4ms/step - loss: 3.0879 - MAE: 3.0879 - val_loss: 3.5118 - val_MAE: 3.5118\n",
            "Epoch 8/80\n",
            "121/121 [==============================] - 0s 4ms/step - loss: 3.0050 - MAE: 3.0050 - val_loss: 3.4425 - val_MAE: 3.4425\n",
            "Epoch 9/80\n",
            "121/121 [==============================] - 1s 5ms/step - loss: 2.9504 - MAE: 2.9504 - val_loss: 3.3797 - val_MAE: 3.3797\n",
            "Epoch 10/80\n",
            "121/121 [==============================] - 1s 4ms/step - loss: 2.9048 - MAE: 2.9048 - val_loss: 3.3360 - val_MAE: 3.3360\n",
            "Epoch 11/80\n",
            "121/121 [==============================] - 1s 6ms/step - loss: 2.8522 - MAE: 2.8522 - val_loss: 3.2901 - val_MAE: 3.2901\n",
            "Epoch 12/80\n",
            "121/121 [==============================] - 1s 6ms/step - loss: 2.8171 - MAE: 2.8171 - val_loss: 3.2534 - val_MAE: 3.2534\n",
            "Epoch 13/80\n",
            "121/121 [==============================] - 1s 7ms/step - loss: 2.7839 - MAE: 2.7839 - val_loss: 3.2395 - val_MAE: 3.2395\n",
            "Epoch 14/80\n",
            "121/121 [==============================] - 1s 8ms/step - loss: 2.7519 - MAE: 2.7519 - val_loss: 3.1750 - val_MAE: 3.1750\n",
            "Epoch 15/80\n",
            "121/121 [==============================] - 1s 8ms/step - loss: 2.7148 - MAE: 2.7148 - val_loss: 3.1362 - val_MAE: 3.1362\n",
            "Epoch 16/80\n",
            "121/121 [==============================] - 0s 4ms/step - loss: 2.6854 - MAE: 2.6854 - val_loss: 3.1283 - val_MAE: 3.1283\n",
            "Epoch 17/80\n",
            "121/121 [==============================] - 1s 4ms/step - loss: 2.6575 - MAE: 2.6575 - val_loss: 3.0787 - val_MAE: 3.0787\n",
            "Epoch 18/80\n",
            "121/121 [==============================] - 1s 5ms/step - loss: 2.6290 - MAE: 2.6290 - val_loss: 3.0946 - val_MAE: 3.0946\n",
            "Epoch 19/80\n",
            "121/121 [==============================] - 1s 5ms/step - loss: 2.6020 - MAE: 2.6020 - val_loss: 3.0056 - val_MAE: 3.0056\n",
            "Epoch 20/80\n",
            "121/121 [==============================] - 1s 5ms/step - loss: 2.5694 - MAE: 2.5694 - val_loss: 2.9949 - val_MAE: 2.9949\n",
            "Epoch 21/80\n",
            "121/121 [==============================] - 1s 6ms/step - loss: 2.5414 - MAE: 2.5414 - val_loss: 2.9602 - val_MAE: 2.9602\n",
            "Epoch 22/80\n",
            "121/121 [==============================] - 1s 7ms/step - loss: 2.5163 - MAE: 2.5163 - val_loss: 2.9289 - val_MAE: 2.9289\n",
            "Epoch 23/80\n",
            "121/121 [==============================] - 1s 6ms/step - loss: 2.4880 - MAE: 2.4880 - val_loss: 2.8975 - val_MAE: 2.8975\n",
            "Epoch 24/80\n",
            "121/121 [==============================] - 1s 8ms/step - loss: 2.4651 - MAE: 2.4651 - val_loss: 2.9025 - val_MAE: 2.9025\n",
            "Epoch 25/80\n",
            "121/121 [==============================] - 1s 6ms/step - loss: 2.4439 - MAE: 2.4439 - val_loss: 2.8531 - val_MAE: 2.8531\n",
            "Epoch 26/80\n",
            "121/121 [==============================] - 0s 3ms/step - loss: 2.4179 - MAE: 2.4179 - val_loss: 2.8366 - val_MAE: 2.8366\n",
            "Epoch 27/80\n",
            "121/121 [==============================] - 0s 2ms/step - loss: 2.3983 - MAE: 2.3983 - val_loss: 2.8098 - val_MAE: 2.8098\n",
            "Epoch 28/80\n",
            "121/121 [==============================] - 0s 2ms/step - loss: 2.3737 - MAE: 2.3737 - val_loss: 2.7719 - val_MAE: 2.7719\n",
            "Epoch 29/80\n",
            "121/121 [==============================] - 0s 2ms/step - loss: 2.3475 - MAE: 2.3475 - val_loss: 2.7441 - val_MAE: 2.7441\n",
            "Epoch 30/80\n",
            "121/121 [==============================] - 0s 2ms/step - loss: 2.3371 - MAE: 2.3371 - val_loss: 2.7469 - val_MAE: 2.7469\n",
            "Epoch 31/80\n",
            "121/121 [==============================] - 0s 2ms/step - loss: 2.3135 - MAE: 2.3135 - val_loss: 2.7076 - val_MAE: 2.7076\n",
            "Epoch 32/80\n",
            "121/121 [==============================] - 0s 2ms/step - loss: 2.2925 - MAE: 2.2925 - val_loss: 2.7209 - val_MAE: 2.7209\n",
            "Epoch 33/80\n",
            "121/121 [==============================] - 0s 2ms/step - loss: 2.2808 - MAE: 2.2808 - val_loss: 2.6975 - val_MAE: 2.6975\n",
            "Epoch 34/80\n",
            "121/121 [==============================] - 0s 2ms/step - loss: 2.2675 - MAE: 2.2675 - val_loss: 2.6704 - val_MAE: 2.6704\n",
            "Epoch 35/80\n",
            "121/121 [==============================] - 0s 2ms/step - loss: 2.2446 - MAE: 2.2446 - val_loss: 2.6787 - val_MAE: 2.6787\n",
            "Epoch 36/80\n",
            "121/121 [==============================] - 0s 3ms/step - loss: 2.2277 - MAE: 2.2277 - val_loss: 2.6314 - val_MAE: 2.6314\n",
            "Epoch 37/80\n",
            "121/121 [==============================] - 0s 3ms/step - loss: 2.2078 - MAE: 2.2078 - val_loss: 2.6997 - val_MAE: 2.6997\n",
            "Epoch 38/80\n",
            "121/121 [==============================] - 0s 3ms/step - loss: 2.2069 - MAE: 2.2069 - val_loss: 2.6274 - val_MAE: 2.6274\n",
            "Epoch 39/80\n",
            "121/121 [==============================] - 0s 3ms/step - loss: 2.1981 - MAE: 2.1981 - val_loss: 2.6229 - val_MAE: 2.6229\n",
            "Epoch 40/80\n",
            "121/121 [==============================] - 0s 3ms/step - loss: 2.1938 - MAE: 2.1938 - val_loss: 2.6183 - val_MAE: 2.6183\n",
            "Epoch 41/80\n",
            "121/121 [==============================] - 0s 3ms/step - loss: 2.1751 - MAE: 2.1751 - val_loss: 2.6160 - val_MAE: 2.6160\n",
            "Epoch 42/80\n",
            "121/121 [==============================] - 0s 3ms/step - loss: 2.1766 - MAE: 2.1766 - val_loss: 2.5965 - val_MAE: 2.5965\n",
            "Epoch 43/80\n",
            "121/121 [==============================] - 0s 3ms/step - loss: 2.1570 - MAE: 2.1570 - val_loss: 2.5685 - val_MAE: 2.5685\n",
            "Epoch 44/80\n",
            "121/121 [==============================] - 0s 2ms/step - loss: 2.1454 - MAE: 2.1454 - val_loss: 2.5695 - val_MAE: 2.5695\n",
            "Epoch 45/80\n",
            "121/121 [==============================] - 0s 2ms/step - loss: 2.1491 - MAE: 2.1491 - val_loss: 2.6088 - val_MAE: 2.6088\n",
            "Epoch 46/80\n",
            "121/121 [==============================] - 0s 2ms/step - loss: 2.1414 - MAE: 2.1414 - val_loss: 2.5845 - val_MAE: 2.5845\n",
            "Epoch 47/80\n",
            "121/121 [==============================] - 0s 2ms/step - loss: 2.1304 - MAE: 2.1304 - val_loss: 2.6137 - val_MAE: 2.6137\n",
            "Epoch 48/80\n",
            "121/121 [==============================] - 0s 2ms/step - loss: 2.1369 - MAE: 2.1369 - val_loss: 2.5696 - val_MAE: 2.5696\n",
            "Epoch 49/80\n",
            "121/121 [==============================] - 0s 2ms/step - loss: 2.1270 - MAE: 2.1270 - val_loss: 2.5717 - val_MAE: 2.5717\n",
            "Epoch 50/80\n",
            "121/121 [==============================] - 0s 2ms/step - loss: 2.1073 - MAE: 2.1073 - val_loss: 2.5309 - val_MAE: 2.5309\n",
            "Epoch 51/80\n",
            "121/121 [==============================] - 0s 2ms/step - loss: 2.1039 - MAE: 2.1039 - val_loss: 2.5640 - val_MAE: 2.5640\n",
            "Epoch 52/80\n",
            "121/121 [==============================] - 0s 2ms/step - loss: 2.1056 - MAE: 2.1056 - val_loss: 2.5290 - val_MAE: 2.5290\n",
            "Epoch 53/80\n",
            "121/121 [==============================] - 0s 2ms/step - loss: 2.1005 - MAE: 2.1005 - val_loss: 2.5284 - val_MAE: 2.5284\n",
            "Epoch 54/80\n",
            "121/121 [==============================] - 0s 2ms/step - loss: 2.0823 - MAE: 2.0823 - val_loss: 2.5441 - val_MAE: 2.5441\n",
            "Epoch 55/80\n",
            "121/121 [==============================] - 0s 2ms/step - loss: 2.0919 - MAE: 2.0919 - val_loss: 2.5248 - val_MAE: 2.5248\n",
            "Epoch 56/80\n",
            "121/121 [==============================] - 0s 2ms/step - loss: 2.0761 - MAE: 2.0761 - val_loss: 2.5285 - val_MAE: 2.5285\n",
            "Epoch 57/80\n",
            "121/121 [==============================] - 0s 2ms/step - loss: 2.0737 - MAE: 2.0737 - val_loss: 2.5120 - val_MAE: 2.5120\n",
            "Epoch 58/80\n",
            "121/121 [==============================] - 0s 2ms/step - loss: 2.0754 - MAE: 2.0754 - val_loss: 2.5089 - val_MAE: 2.5089\n",
            "Epoch 59/80\n",
            "121/121 [==============================] - 0s 2ms/step - loss: 2.0617 - MAE: 2.0617 - val_loss: 2.5000 - val_MAE: 2.5000\n",
            "Epoch 60/80\n",
            "121/121 [==============================] - 0s 2ms/step - loss: 2.0613 - MAE: 2.0613 - val_loss: 2.4971 - val_MAE: 2.4971\n",
            "Epoch 61/80\n",
            "121/121 [==============================] - 0s 3ms/step - loss: 2.0446 - MAE: 2.0446 - val_loss: 2.5222 - val_MAE: 2.5222\n",
            "Epoch 62/80\n",
            "121/121 [==============================] - 0s 2ms/step - loss: 2.0516 - MAE: 2.0516 - val_loss: 2.4991 - val_MAE: 2.4991\n",
            "Epoch 63/80\n",
            "121/121 [==============================] - 0s 2ms/step - loss: 2.0353 - MAE: 2.0353 - val_loss: 2.5003 - val_MAE: 2.5003\n",
            "Epoch 64/80\n",
            "121/121 [==============================] - 0s 2ms/step - loss: 2.0345 - MAE: 2.0345 - val_loss: 2.4781 - val_MAE: 2.4781\n",
            "Epoch 65/80\n",
            "121/121 [==============================] - 0s 2ms/step - loss: 2.0248 - MAE: 2.0248 - val_loss: 2.4945 - val_MAE: 2.4945\n",
            "Epoch 66/80\n",
            "121/121 [==============================] - 0s 2ms/step - loss: 2.0315 - MAE: 2.0315 - val_loss: 2.4650 - val_MAE: 2.4650\n",
            "Epoch 67/80\n",
            "121/121 [==============================] - 0s 2ms/step - loss: 2.0177 - MAE: 2.0177 - val_loss: 2.4471 - val_MAE: 2.4471\n",
            "Epoch 68/80\n",
            "121/121 [==============================] - 0s 2ms/step - loss: 2.0114 - MAE: 2.0114 - val_loss: 2.4754 - val_MAE: 2.4754\n",
            "Epoch 69/80\n",
            "121/121 [==============================] - 0s 2ms/step - loss: 2.0190 - MAE: 2.0190 - val_loss: 2.4565 - val_MAE: 2.4565\n",
            "Epoch 70/80\n",
            "121/121 [==============================] - 0s 2ms/step - loss: 2.0112 - MAE: 2.0112 - val_loss: 2.4390 - val_MAE: 2.4390\n",
            "Epoch 71/80\n",
            "121/121 [==============================] - 0s 2ms/step - loss: 1.9982 - MAE: 1.9982 - val_loss: 2.4648 - val_MAE: 2.4648\n",
            "Epoch 72/80\n",
            "121/121 [==============================] - 0s 2ms/step - loss: 1.9981 - MAE: 1.9981 - val_loss: 2.4391 - val_MAE: 2.4391\n",
            "Epoch 73/80\n",
            "121/121 [==============================] - 0s 2ms/step - loss: 1.9912 - MAE: 1.9912 - val_loss: 2.4201 - val_MAE: 2.4201\n",
            "Epoch 74/80\n",
            "121/121 [==============================] - 0s 2ms/step - loss: 1.9855 - MAE: 1.9855 - val_loss: 2.4313 - val_MAE: 2.4313\n",
            "Epoch 75/80\n",
            "121/121 [==============================] - 0s 2ms/step - loss: 1.9818 - MAE: 1.9818 - val_loss: 2.4220 - val_MAE: 2.4220\n",
            "Epoch 76/80\n",
            "121/121 [==============================] - 0s 2ms/step - loss: 1.9836 - MAE: 1.9836 - val_loss: 2.4023 - val_MAE: 2.4023\n",
            "Epoch 77/80\n",
            "121/121 [==============================] - 0s 2ms/step - loss: 1.9728 - MAE: 1.9728 - val_loss: 2.4225 - val_MAE: 2.4225\n",
            "Epoch 78/80\n",
            "121/121 [==============================] - 0s 3ms/step - loss: 1.9602 - MAE: 1.9602 - val_loss: 2.4042 - val_MAE: 2.4042\n",
            "Epoch 79/80\n",
            "121/121 [==============================] - 0s 3ms/step - loss: 1.9698 - MAE: 1.9698 - val_loss: 2.4073 - val_MAE: 2.4073\n",
            "Epoch 80/80\n",
            "121/121 [==============================] - 0s 3ms/step - loss: 1.9557 - MAE: 1.9557 - val_loss: 2.4072 - val_MAE: 2.4072\n"
          ]
        },
        {
          "output_type": "execute_result",
          "data": {
            "text/plain": [
              "<keras.callbacks.History at 0x7f5dc8a62ec0>"
            ]
          },
          "metadata": {},
          "execution_count": 19
        }
      ],
      "source": [
        "model.fit(x_train, y_train,epochs=80, validation_split=0.2, callbacks=[early_stopping])"
      ]
    },
    {
      "cell_type": "code",
      "execution_count": 20,
      "id": "088228dc",
      "metadata": {
        "colab": {
          "base_uri": "https://localhost:8080/"
        },
        "id": "088228dc",
        "outputId": "5e167902-6d08-4448-bb79-dda89ed8799f"
      },
      "outputs": [
        {
          "output_type": "stream",
          "name": "stdout",
          "text": [
            "38/38 [==============================] - 0s 2ms/step - loss: 2.1854 - MAE: 2.1854\n",
            "Test Loss: 2.1853725910186768, Test MAE: 2.1853725910186768\n"
          ]
        }
      ],
      "source": [
        "test_loss, test_mae = model.evaluate(x_test, y_test)\n",
        "print(f\"Test Loss: {test_loss}, Test MAE: {test_mae}\")"
      ]
    },
    {
      "cell_type": "code",
      "execution_count": 21,
      "id": "067a66f4",
      "metadata": {
        "colab": {
          "base_uri": "https://localhost:8080/"
        },
        "id": "067a66f4",
        "outputId": "5be91f75-6f22-4b12-e9a4-f0abdb1d3a72"
      },
      "outputs": [
        {
          "output_type": "stream",
          "name": "stdout",
          "text": [
            "38/38 [==============================] - 0s 1ms/step\n"
          ]
        }
      ],
      "source": [
        "y_pred = model.predict(x_test)\n",
        "y_pred = np.argmax(y_pred, axis=1)"
      ]
    },
    {
      "cell_type": "code",
      "execution_count": 21,
      "id": "78948283",
      "metadata": {
        "id": "78948283"
      },
      "outputs": [],
      "source": []
    }
  ],
  "metadata": {
    "kernelspec": {
      "display_name": "Python 3 (ipykernel)",
      "language": "python",
      "name": "python3"
    },
    "language_info": {
      "codemirror_mode": {
        "name": "ipython",
        "version": 3
      },
      "file_extension": ".py",
      "mimetype": "text/x-python",
      "name": "python",
      "nbconvert_exporter": "python",
      "pygments_lexer": "ipython3",
      "version": "3.9.12"
    },
    "colab": {
      "provenance": [],
      "include_colab_link": true
    }
  },
  "nbformat": 4,
  "nbformat_minor": 5
}